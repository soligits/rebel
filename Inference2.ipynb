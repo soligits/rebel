{
 "cells": [
  {
   "cell_type": "code",
   "execution_count": 2,
   "id": "bc28de2b-209d-4ea1-8e0d-9d3972be9c43",
   "metadata": {},
   "outputs": [
    {
     "name": "stderr",
     "output_type": "stream",
     "text": [
      "/home/ubuntu/miniconda3/envs/rebel/lib/python3.10/site-packages/tqdm/auto.py:21: TqdmWarning: IProgress not found. Please update jupyter and ipywidgets. See https://ipywidgets.readthedocs.io/en/stable/user_install.html\n",
      "  from .autonotebook import tqdm as notebook_tqdm\n"
     ]
    }
   ],
   "source": [
    "from transformers import AutoConfig, AutoModelForSeq2SeqLM, AutoTokenizer"
   ]
  },
  {
   "cell_type": "code",
   "execution_count": 9,
   "id": "cbb199a1-9b59-4880-92f4-cc8f7d03c6e6",
   "metadata": {
    "scrolled": true
   },
   "outputs": [],
   "source": [
    "config = AutoConfig.from_pretrained('/home/ubuntu/rebel/model/pretrained-mt5-base')\n",
    "tokenizer = AutoTokenizer.from_pretrained('/home/ubuntu/rebel/model/pretrained-mt5-base')\n",
    "model = AutoModelForSeq2SeqLM.from_pretrained('/home/ubuntu/rebel/model/pretrained-mt5-base')"
   ]
  },
  {
   "cell_type": "code",
   "execution_count": 13,
   "id": "de40dc35-ceb9-49d6-a459-c101c35e2a6a",
   "metadata": {},
   "outputs": [],
   "source": [
    "import torch\n",
    "\n",
    "def extract_triplets(text):\n",
    "    triplets = []\n",
    "    relation, subject, relation, object_ = '', '', '', ''\n",
    "    text = (\n",
    "        text\n",
    "        .replace(\"<obj>\", \" <obj> \")\n",
    "        .replace(\"<subj>\", \" <subj> \")\n",
    "        .replace(\"<triplet>\", \" <triplet> \")\n",
    "        .replace(\"<s>\", \"\")\n",
    "        .replace(\"</s>\", \"\")\n",
    "        .replace(\"<pad>\", \"\")\n",
    "        .strip()\n",
    "    )\n",
    "    for i in range(100):\n",
    "        text = text.replace(f\"<extra_id_{i}>\", \"\")\n",
    "    current = 'x'\n",
    "    for token in text.split():\n",
    "        token = token.strip()\n",
    "        if token == \"<triplet>\":\n",
    "            current = 't'\n",
    "            if relation != '':\n",
    "                triplets.append({'head': subject.strip(), 'type': relation.strip(),'tail': object_.strip()})\n",
    "                relation = ''\n",
    "            subject = ''\n",
    "        elif token == \"<subj>\":\n",
    "            current = 's'\n",
    "            if relation != '':\n",
    "                triplets.append({'head': subject.strip(), 'type': relation.strip(),'tail': object_.strip()})\n",
    "            object_ = ''\n",
    "        elif token == \"<obj>\":\n",
    "            current = 'o'\n",
    "            relation = ''\n",
    "        else:\n",
    "            if current == 't':\n",
    "                subject += ' ' + token\n",
    "            elif current == 's':\n",
    "                object_ += ' ' + token\n",
    "            elif current == 'o':\n",
    "                relation += ' ' + token\n",
    "    if subject.strip() and relation.strip() and object_.strip():\n",
    "        triplets.append({'head': subject.strip(), 'type': relation.strip(),'tail': object_.strip()})\n",
    "    triplets = [item for item in triplets if item[\"head\"] and item[\"type\"] and item[\"tail\"]]\n",
    "    return triplets\n",
    "\n",
    "\n",
    "def _predict(model, tokenizer, text):\n",
    "    gen_kwargs = {\n",
    "        \"max_length\": 128,\n",
    "        \"early_stopping\": False,\n",
    "        \"length_penalty\": 0,\n",
    "        \"no_repeat_ngram_size\": 0,\n",
    "        \"num_beams\": 3,\n",
    "    }\n",
    "    \n",
    "    model_inputs = tokenizer(text, max_length=256, padding=True, truncation=True, return_tensors = 'pt')\n",
    "    batch_size = model_inputs['input_ids'].shape[0]\n",
    "    decoder_inputs = torch.tensor([[0, 250100] for _ in range(batch_size)])\n",
    "    generated_tokens = model.generate(\n",
    "        model_inputs[\"input_ids\"].to(model.device),\n",
    "        attention_mask=model_inputs[\"attention_mask\"].to(model.device),\n",
    "        decoder_input_ids=decoder_inputs.to(model.device),\n",
    "        **gen_kwargs,\n",
    "    )\n",
    "    \n",
    "    decoded_preds = tokenizer.batch_decode(generated_tokens, skip_special_tokens=False)\n",
    "    return decoded_preds\n",
    "\n",
    "predict = lambda text: _predict(model, tokenizer, text)"
   ]
  },
  {
   "cell_type": "code",
   "execution_count": 14,
   "id": "17d92ba4-f9cd-455b-b3b1-dde2b1ba2ead",
   "metadata": {},
   "outputs": [],
   "source": [
    "text = \"\"\"\n",
    "اینشتین در ۱۴ مارس ۱۸۷۹ در اولم آلمان به دنیا آمد. خانواده‌اش یهودی بودند و در ۱۸۸۰ به مونیخ مهاجرت کردند. پدرش هرمان یک فروشنده و مهندس بود و عموی او یاکوب با او تجارت کوچکی برای نصب گاز و آب تأسیس کردند. این تجارت موفق بود و در ۱۸۸۵ کارخانه تولید لوازم الکتریکی راه‌اندازی کردند.\n",
    "\n",
    "اینشتین در ۵ سالگی به مدرسه ابتدایی کاتولیک در مونیخ رفت و سه سال بعد به مدرسه لوتیپولد فرستاده شد. او در ۱۴ سالگی به ایتالیا رفت و در پاویا ساکن شد. پدرش تمایل داشت که او رشته مهندسی برق را ادامه دهد اما اینشتین به‌خاطر برخوردهایی که با مسئولان مدرسه داشت از آن‌ها متنفر شده بود.\n",
    "\n",
    "اینشتین حتی از دوران جوانی تبحر خاصی در ریاضی و فیزیک داشت. او از ۱۲ سالگی شروع به خودآموزی جبر و هندسه اقلیدسی کرد و در سن ۱۲ سالگی اثباتی اختصاصی برای قضیه فیثاغورس بیابد. او در سن ۱۴ سالگی به گفته خودش در انتگرال و حساب دیفرانسیل به استادی رسیده بود.\n",
    "\n",
    "اینشتین در ۱۸۹۴ کارخانه پدرش را ترک کرد و به ایتالیا رفت. او در پاویا ساکن شد و در ۱۸۹۵ به دانشگاه لا ساپیenza در رم رفت. او در آنجا با ماکس پلانک آشنا شد و تحت تأثیر او قرار گرفت.\n",
    "\n",
    "\"\"\"\n",
    "sentences = [(x.strip() + \".\") for item in text.strip().split(\"\\n\") for x in item.strip().split(\".\") if x.strip()]"
   ]
  },
  {
   "cell_type": "code",
   "execution_count": 15,
   "id": "c7ad274f-06ca-4228-94ac-3150f77036da",
   "metadata": {},
   "outputs": [
    {
     "name": "stdout",
     "output_type": "stream",
     "text": [
      "input: اینشتین در ۱۴ مارس ۱۸۷۹ در اولم آلمان به دنیا آمد., output: {'head': 'اولم', 'type': 'کشور', 'tail': 'آلمان'}\n",
      "input: خانواده‌اش یهودی بودند و در ۱۸۸۰ به مونیخ مهاجرت کردند., output: {'head': 'مونیخ', 'type': 'کشور', 'tail': 'یهودی'}\n",
      "input: پدرش هرمان یک فروشنده و مهندس بود و عموی او یاکوب با او تجارت کوچکی برای نصب گاز و آب تأسیس کردند., output: {'head': 'هرمان', 'type': 'همنیا', 'tail': 'یاکوب'}\n",
      "input: این تجارت موفق بود و در ۱۸۸۵ کارخانه تولید لوازم الکتریکی راه‌اندازی کردند., output: {'head': 'لوازم الکتریکی', 'type': 'زیرردۀ', 'tail': 'لوازم الکتریکی'}\n",
      "input: اینشتین در ۵ سالگی به مدرسه ابتدایی کاتولیک در مونیخ رفت و سه سال بعد به مدرسه لوتیپولد فرستاده شد., output: {'head': 'مدرسه ابتدایی کاتولیک', 'type': 'موقعیت در تقسیمات کشوری', 'tail': 'مونیخ'}\n",
      "input: او در ۱۴ سالگی به ایتالیا رفت و در پاویا ساکن شد., output: {'head': 'پاویا', 'type': 'کشور', 'tail': 'ایتالیا'}\n",
      "input: پدرش تمایل داشت که او رشته مهندسی برق را ادامه دهد اما اینشتین به‌خاطر برخوردهایی که با مسئولان مدرسه داشت از آن‌ها متنفر شده بود., output: {'head': 'اینشتین', 'type': 'زمینه کاری', 'tail': 'مهندسی برق'}\n",
      "input: اینشتین حتی از دوران جوانی تبحر خاصی در ریاضی و فیزیک داشت., output: {'head': 'ریاضی', 'type': 'جزئی از', 'tail': 'فیزیک'}\n",
      "input: او از ۱۲ سالگی شروع به خودآموزی جبر و هندسه اقلیدسی کرد و در سن ۱۲ سالگی اثباتی اختصاصی برای قضیه فیثاغورس بیابد., output: {'head': 'فیثاغورس', 'type': 'جزئی از', 'tail': 'هندسه اقلیدسی'}\n",
      "input: او در سن ۱۴ سالگی به گفته خودش در انتگرال و حساب دیفرانسیل به استادی رسیده بود., output: {'head': 'انتگرال', 'type': 'متفاوت است با', 'tail': 'حساب دیفرانسیل'}\n",
      "input: اینشتین در ۱۸۹۴ کارخانه پدرش را ترک کرد و به ایتالیا رفت., output: {'head': 'ایتالیا', 'type': 'رابطۀ دیپلماتیک', 'tail': 'ایتالیا'}\n",
      "input: او در پاویا ساکن شد و در ۱۸۹۵ به دانشگاه لا ساپیenza در رم رفت., output: {'head': 'دانشگاه لا ساپیenza', 'type': 'موقعیت در تقسیمات کشوری', 'tail': 'رم'}\n",
      "input: او در آنجا با ماکس پلانک آشنا شد و تحت تأثیر او قرار گرفت., output: {'head': 'ماکس پلانک', 'type': 'همسر', 'tail': 'ماکس پلانک'}\n"
     ]
    }
   ],
   "source": [
    "for sen in sentences:\n",
    "    decoded_preds = predict(sen.strip())\n",
    "    print(f\"input: {sen}, output: {extract_triplets(decoded_preds[0])[0]}\")"
   ]
  }
 ],
 "metadata": {
  "kernelspec": {
   "display_name": "Python 3 (ipykernel)",
   "language": "python",
   "name": "python3"
  },
  "language_info": {
   "codemirror_mode": {
    "name": "ipython",
    "version": 3
   },
   "file_extension": ".py",
   "mimetype": "text/x-python",
   "name": "python",
   "nbconvert_exporter": "python",
   "pygments_lexer": "ipython3",
   "version": "3.10.14"
  }
 },
 "nbformat": 4,
 "nbformat_minor": 5
}
