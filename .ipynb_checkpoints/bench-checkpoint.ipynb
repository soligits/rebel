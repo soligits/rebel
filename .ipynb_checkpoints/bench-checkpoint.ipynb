{
 "cells": [
  {
   "cell_type": "code",
   "execution_count": 1,
   "id": "59deb249-63df-48d4-a9aa-c920b07ca362",
   "metadata": {},
   "outputs": [
    {
     "name": "stdout",
     "output_type": "stream",
     "text": [
      "/home/ubuntu/rebel/src\n"
     ]
    },
    {
     "name": "stderr",
     "output_type": "stream",
     "text": [
      "/home/ubuntu/miniconda3/envs/rebel/lib/python3.10/site-packages/IPython/core/magics/osm.py:417: UserWarning: This is now an optional IPython functionality, setting dhist requires you to install the `pickleshare` library.\n",
      "  self.shell.db['dhist'] = compress_dhist(dhist)[-100:]\n"
     ]
    }
   ],
   "source": [
    "%cd src"
   ]
  },
  {
   "cell_type": "code",
   "execution_count": 2,
   "id": "c8d7fe1e-7344-4233-ba9e-40f836ce3bef",
   "metadata": {},
   "outputs": [
    {
     "name": "stderr",
     "output_type": "stream",
     "text": [
      "/home/ubuntu/miniconda3/envs/rebel/lib/python3.10/site-packages/tqdm/auto.py:21: TqdmWarning: IProgress not found. Please update jupyter and ipywidgets. See https://ipywidgets.readthedocs.io/en/stable/user_install.html\n",
      "  from .autonotebook import tqdm as notebook_tqdm\n"
     ]
    }
   ],
   "source": [
    "from hydra import compose, initialize\n",
    "import pytorch_lightning as pl\n",
    "from pl_data_modules import BasePLDataModule\n",
    "from pl_modules import BasePLModule\n",
    "from transformers import AutoConfig, AutoModelForSeq2SeqLM, AutoTokenizer\n",
    "from pytorch_lightning.core.saving import _load_from_checkpoint\n",
    "from typing import cast\n",
    "import torch\n",
    "from pytorch_lightning.utilities.migration.utils import _pl_migrate_checkpoint\n",
    "from pathlib import Path\n",
    "from pytorch_lightning.core.saving import _load_state\n",
    "\n",
    "checkpoint_path = \"/home/ubuntu/rebel/outputs/2024-08-21/17-25-14/experiments/default_name/last.ckpt\"\n",
    "seed = 42\n",
    "config_name = 'google/mt5-base'\n",
    "tokenizer_name = 'google/mt5-base'"
   ]
  },
  {
   "cell_type": "code",
   "execution_count": 3,
   "id": "045e2492-632e-4b00-84bf-26402a6e342a",
   "metadata": {
    "scrolled": true
   },
   "outputs": [
    {
     "name": "stderr",
     "output_type": "stream",
     "text": [
      "/tmp/ipykernel_694486/1858989061.py:1: UserWarning: \n",
      "The version_base parameter is not specified.\n",
      "Please specify a compatability version level, or None.\n",
      "Will assume defaults for version 1.1\n",
      "  initialize(config_path=\"./conf\")\n"
     ]
    }
   ],
   "source": [
    "initialize(config_path=\"./conf\")\n",
    "conf = compose(config_name=\"root\", overrides=[f\"checkpoint_path={checkpoint_path}\", \"do_predict=True\", \"do_eval=True\"])"
   ]
  },
  {
   "cell_type": "code",
   "execution_count": 4,
   "id": "dc857e0e-5f56-41be-892d-fe74a574a740",
   "metadata": {},
   "outputs": [
    {
     "name": "stderr",
     "output_type": "stream",
     "text": [
      "Seed set to 42\n",
      "/home/ubuntu/miniconda3/envs/rebel/lib/python3.10/site-packages/transformers/tokenization_utils_base.py:1601: FutureWarning: `clean_up_tokenization_spaces` was not set. It will be set to `True` by default. This behavior will be depracted in transformers v4.45, and will be then set to `False` by default. For more details check this issue: https://github.com/huggingface/transformers/issues/31884\n",
      "  warnings.warn(\n",
      "/home/ubuntu/miniconda3/envs/rebel/lib/python3.10/site-packages/transformers/convert_slow_tokenizer.py:551: UserWarning: The sentencepiece tokenizer that you are converting to a fast tokenizer uses the byte fallback option which is not implemented in the fast tokenizers. In practice this means that the fast version of the tokenizer can produce unknown tokens whereas the sentencepiece version would have converted these unknown tokens into a sequence of byte tokens matching the original piece of text.\n",
      "  warnings.warn(\n"
     ]
    },
    {
     "data": {
      "text/plain": [
       "Embedding(250103, 768)"
      ]
     },
     "execution_count": 4,
     "metadata": {},
     "output_type": "execute_result"
    }
   ],
   "source": [
    "pl.seed_everything(conf.seed)\n",
    "\n",
    "config = AutoConfig.from_pretrained(\n",
    "    conf.config_name if conf.config_name else conf.model_name_or_path,\n",
    "    decoder_start_token_id = 0,\n",
    "    early_stopping = False,\n",
    "    no_repeat_ngram_size = 0,\n",
    ")\n",
    "\n",
    "special_tokens = [\n",
    "    \"<triplet>\",\n",
    "    \"<obj>\",\n",
    "    \"<subj>\",\n",
    "]\n",
    "    \n",
    "tokenizer_kwargs = {\n",
    "    \"use_fast\": True,  # Always use fast tokenizer for better compatibility\n",
    "    \"additional_special_tokens\": special_tokens, \n",
    "    \"legacy\": False,  # For mt5\n",
    "}\n",
    "\n",
    "tokenizer = AutoTokenizer.from_pretrained(\n",
    "    conf.tokenizer_name if conf.tokenizer_name else conf.model_name_or_path,\n",
    "    **tokenizer_kwargs\n",
    ")\n",
    "\n",
    "model = AutoModelForSeq2SeqLM.from_pretrained(\n",
    "    conf.model_name_or_path,\n",
    "    config=config,\n",
    ")\n",
    "# if not conf.finetune:\n",
    "model.resize_token_embeddings(len(tokenizer))"
   ]
  },
  {
   "cell_type": "code",
   "execution_count": 5,
   "id": "a34064f2-52dc-4afd-8c67-893d5c42e7b9",
   "metadata": {},
   "outputs": [],
   "source": [
    "# data module declaration\n",
    "pl_data_module = BasePLDataModule(conf, tokenizer, model)\n",
    "\n",
    "# main module declaration\n",
    "pl_module = BasePLModule(conf, config, tokenizer, model)\n",
    "device = torch.device(\"cuda:0\")"
   ]
  },
  {
   "cell_type": "code",
   "execution_count": 6,
   "id": "fc34c914-7a4c-4985-80fb-f3fd79a294e7",
   "metadata": {
    "scrolled": true
   },
   "outputs": [
    {
     "name": "stderr",
     "output_type": "stream",
     "text": [
      "/tmp/ipykernel_694486/549381607.py:1: FutureWarning: You are using `torch.load` with `weights_only=False` (the current default value), which uses the default pickle module implicitly. It is possible to construct malicious pickle data which will execute arbitrary code during unpickling (See https://github.com/pytorch/pytorch/blob/main/SECURITY.md#untrusted-models for more details). In a future release, the default value for `weights_only` will be flipped to `True`. This limits the functions that could be executed during unpickling. Arbitrary objects will no longer be allowed to be loaded via this mode unless they are explicitly allowlisted by the user via `torch.serialization.add_safe_globals`. We recommend you start setting `weights_only=True` for any use case where you don't have full control of the loaded file. Please open an issue on GitHub for any issues related to this experimental feature.\n",
      "  checkpoint = torch.load(\n"
     ]
    }
   ],
   "source": [
    "checkpoint = torch.load(\n",
    "    conf.checkpoint_path,\n",
    "    map_location=torch.device('cuda'),\n",
    ")\n",
    "checkpoint = _pl_migrate_checkpoint(\n",
    "    checkpoint, checkpoint_path=(conf.checkpoint_path if isinstance(conf.checkpoint_path, (str, Path)) else None)\n",
    ")\n",
    "pl_module = _load_state(BasePLModule, checkpoint, config=config, tokenizer=tokenizer, model=model)\n",
    "state_dict = checkpoint[\"state_dict\"]\n",
    "pl_module = cast(BasePLModule, pl_module.to(device))"
   ]
  },
  {
   "cell_type": "code",
   "execution_count": null,
   "id": "65e04ea3-8719-432a-8571-a05db2edc8f1",
   "metadata": {},
   "outputs": [
    {
     "name": "stderr",
     "output_type": "stream",
     "text": [
      "GPU available: True (cuda), used: True\n",
      "TPU available: False, using: 0 TPU cores\n",
      "HPU available: False, using: 0 HPUs\n",
      "/home/ubuntu/miniconda3/envs/rebel/lib/python3.10/site-packages/pytorch_lightning/trainer/connectors/logger_connector/logger_connector.py:75: Starting from v1.9.0, `tensorboardX` has been removed as a dependency of the `pytorch_lightning` package, due to potential conflicts with other packages in the ML ecosystem. For this reason, `logger=True` will use `CSVLogger` as the default logger, unless the `tensorboard` or `tensorboardX` packages are found. Please `pip install lightning[extra]` or one of them to enable TensorBoard support by default\n",
      "Map:   0%|                                                                           | 0/517701 [00:00<?, ? examples/s]/home/ubuntu/miniconda3/envs/rebel/lib/python3.10/site-packages/transformers/tokenization_utils_base.py:4126: UserWarning: `as_target_tokenizer` is deprecated and will be removed in v5 of Transformers. You can tokenize your labels by using the argument `text_target` of the regular `__call__` method (either in the same call as your input texts if you use the same keyword arguments, or in a separate call.\n",
      "  warnings.warn(\n",
      "Map: 100%|████████████████████████████████████████████████████████████| 517701/517701 [01:08<00:00, 7576.10 examples/s]\n",
      "Map: 100%|██████████████████████████████████████████████████████████████| 28505/28505 [00:03<00:00, 7499.58 examples/s]\n",
      "Map:   7%|████▍                                                          | 2000/28689 [00:00<00:03, 8075.77 examples/s]"
     ]
    }
   ],
   "source": [
    "# pl_module.hparams.predict_with_generate = True\n",
    "pl_module.hparams.test_file = pl_data_module.conf.test_file\n",
    "# trainer\n",
    "trainer = pl.Trainer(\n",
    "        num_nodes=conf.gpus,\n",
    ")\n",
    "# Manually run prep methods on DataModule\n",
    "pl_data_module.prepare_data()\n",
    "pl_data_module.setup('test')\n"
   ]
  },
  {
   "cell_type": "code",
   "execution_count": null,
   "id": "6f9e4269-8852-4576-b62d-87117ed2c99d",
   "metadata": {},
   "outputs": [],
   "source": [
    "result = trainer.test(pl_module, dataloaders=pl_data_module.test_dataloader())"
   ]
  },
  {
   "cell_type": "code",
   "execution_count": null,
   "id": "17b943fb-6dd7-4fff-b0af-1c65571694ad",
   "metadata": {
    "scrolled": true
   },
   "outputs": [],
   "source": [
    "result"
   ]
  }
 ],
 "metadata": {
  "kernelspec": {
   "display_name": "Python 3 (ipykernel)",
   "language": "python",
   "name": "python3"
  },
  "language_info": {
   "codemirror_mode": {
    "name": "ipython",
    "version": 3
   },
   "file_extension": ".py",
   "mimetype": "text/x-python",
   "name": "python",
   "nbconvert_exporter": "python",
   "pygments_lexer": "ipython3",
   "version": "3.10.14"
  }
 },
 "nbformat": 4,
 "nbformat_minor": 5
}
