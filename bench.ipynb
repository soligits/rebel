{
 "cells": [
  {
   "cell_type": "code",
   "execution_count": 1,
   "id": "59deb249-63df-48d4-a9aa-c920b07ca362",
   "metadata": {},
   "outputs": [
    {
     "name": "stdout",
     "output_type": "stream",
     "text": [
      "/home/ubuntu/rebel/src\n"
     ]
    },
    {
     "name": "stderr",
     "output_type": "stream",
     "text": [
      "/home/ubuntu/miniconda3/envs/rebel/lib/python3.10/site-packages/IPython/core/magics/osm.py:417: UserWarning: This is now an optional IPython functionality, setting dhist requires you to install the `pickleshare` library.\n",
      "  self.shell.db['dhist'] = compress_dhist(dhist)[-100:]\n"
     ]
    }
   ],
   "source": [
    "%cd src"
   ]
  },
  {
   "cell_type": "code",
   "execution_count": 2,
   "id": "c8d7fe1e-7344-4233-ba9e-40f836ce3bef",
   "metadata": {},
   "outputs": [
    {
     "name": "stderr",
     "output_type": "stream",
     "text": [
      "/home/ubuntu/miniconda3/envs/rebel/lib/python3.10/site-packages/tqdm/auto.py:21: TqdmWarning: IProgress not found. Please update jupyter and ipywidgets. See https://ipywidgets.readthedocs.io/en/stable/user_install.html\n",
      "  from .autonotebook import tqdm as notebook_tqdm\n"
     ]
    }
   ],
   "source": [
    "from hydra import compose, initialize\n",
    "import pytorch_lightning as pl\n",
    "from pl_data_modules import BasePLDataModule\n",
    "from pl_modules import BasePLModule\n",
    "from transformers import AutoConfig, AutoModelForSeq2SeqLM, AutoTokenizer\n",
    "from pytorch_lightning.core.saving import _load_from_checkpoint\n",
    "from typing import cast\n",
    "import torch\n",
    "from pytorch_lightning.utilities.migration.utils import _pl_migrate_checkpoint\n",
    "from pathlib import Path\n",
    "from pytorch_lightning.core.saving import _load_state\n",
    "\n",
    "checkpoint_path = \"/home/ubuntu/rebel/outputs/2024-08-21/17-25-14/experiments/default_name/last.ckpt\"\n",
    "seed = 42\n",
    "config_name = 'google/mt5-base'\n",
    "tokenizer_name = 'google/mt5-base'"
   ]
  },
  {
   "cell_type": "code",
   "execution_count": 3,
   "id": "045e2492-632e-4b00-84bf-26402a6e342a",
   "metadata": {
    "scrolled": true
   },
   "outputs": [
    {
     "name": "stderr",
     "output_type": "stream",
     "text": [
      "/tmp/ipykernel_685160/1858989061.py:1: UserWarning: \n",
      "The version_base parameter is not specified.\n",
      "Please specify a compatability version level, or None.\n",
      "Will assume defaults for version 1.1\n",
      "  initialize(config_path=\"./conf\")\n"
     ]
    }
   ],
   "source": [
    "initialize(config_path=\"./conf\")\n",
    "conf = compose(config_name=\"root\", overrides=[f\"checkpoint_path={checkpoint_path}\", \"do_predict=True\", \"do_eval=True\"])"
   ]
  },
  {
   "cell_type": "code",
   "execution_count": 4,
   "id": "dc857e0e-5f56-41be-892d-fe74a574a740",
   "metadata": {},
   "outputs": [
    {
     "name": "stderr",
     "output_type": "stream",
     "text": [
      "Seed set to 42\n",
      "/home/ubuntu/miniconda3/envs/rebel/lib/python3.10/site-packages/transformers/tokenization_utils_base.py:1601: FutureWarning: `clean_up_tokenization_spaces` was not set. It will be set to `True` by default. This behavior will be depracted in transformers v4.45, and will be then set to `False` by default. For more details check this issue: https://github.com/huggingface/transformers/issues/31884\n",
      "  warnings.warn(\n",
      "/home/ubuntu/miniconda3/envs/rebel/lib/python3.10/site-packages/transformers/convert_slow_tokenizer.py:551: UserWarning: The sentencepiece tokenizer that you are converting to a fast tokenizer uses the byte fallback option which is not implemented in the fast tokenizers. In practice this means that the fast version of the tokenizer can produce unknown tokens whereas the sentencepiece version would have converted these unknown tokens into a sequence of byte tokens matching the original piece of text.\n",
      "  warnings.warn(\n"
     ]
    },
    {
     "data": {
      "text/plain": [
       "Embedding(250103, 768)"
      ]
     },
     "execution_count": 4,
     "metadata": {},
     "output_type": "execute_result"
    }
   ],
   "source": [
    "pl.seed_everything(conf.seed)\n",
    "\n",
    "config = AutoConfig.from_pretrained(\n",
    "    conf.config_name if conf.config_name else conf.model_name_or_path,\n",
    "    decoder_start_token_id = 0,\n",
    "    early_stopping = False,\n",
    "    no_repeat_ngram_size = 0,\n",
    ")\n",
    "\n",
    "special_tokens = [\n",
    "    \"<triplet>\",\n",
    "    \"<obj>\",\n",
    "    \"<subj>\",\n",
    "]\n",
    "    \n",
    "tokenizer_kwargs = {\n",
    "    \"use_fast\": True,  # Always use fast tokenizer for better compatibility\n",
    "    \"additional_special_tokens\": special_tokens, \n",
    "    \"legacy\": False,  # For mt5\n",
    "}\n",
    "\n",
    "tokenizer = AutoTokenizer.from_pretrained(\n",
    "    conf.tokenizer_name if conf.tokenizer_name else conf.model_name_or_path,\n",
    "    **tokenizer_kwargs\n",
    ")\n",
    "\n",
    "model = AutoModelForSeq2SeqLM.from_pretrained(\n",
    "    conf.model_name_or_path,\n",
    "    config=config,\n",
    ")\n",
    "# if not conf.finetune:\n",
    "model.resize_token_embeddings(len(tokenizer))"
   ]
  },
  {
   "cell_type": "code",
   "execution_count": 5,
   "id": "a34064f2-52dc-4afd-8c67-893d5c42e7b9",
   "metadata": {},
   "outputs": [],
   "source": [
    "# data module declaration\n",
    "pl_data_module = BasePLDataModule(conf, tokenizer, model)\n",
    "\n",
    "# main module declaration\n",
    "pl_module = BasePLModule(conf, config, tokenizer, model)\n",
    "device = torch.device(\"cuda:0\")"
   ]
  },
  {
   "cell_type": "code",
   "execution_count": 6,
   "id": "fc34c914-7a4c-4985-80fb-f3fd79a294e7",
   "metadata": {
    "scrolled": true
   },
   "outputs": [
    {
     "name": "stderr",
     "output_type": "stream",
     "text": [
      "/tmp/ipykernel_685160/549381607.py:1: FutureWarning: You are using `torch.load` with `weights_only=False` (the current default value), which uses the default pickle module implicitly. It is possible to construct malicious pickle data which will execute arbitrary code during unpickling (See https://github.com/pytorch/pytorch/blob/main/SECURITY.md#untrusted-models for more details). In a future release, the default value for `weights_only` will be flipped to `True`. This limits the functions that could be executed during unpickling. Arbitrary objects will no longer be allowed to be loaded via this mode unless they are explicitly allowlisted by the user via `torch.serialization.add_safe_globals`. We recommend you start setting `weights_only=True` for any use case where you don't have full control of the loaded file. Please open an issue on GitHub for any issues related to this experimental feature.\n",
      "  checkpoint = torch.load(\n"
     ]
    }
   ],
   "source": [
    "checkpoint = torch.load(\n",
    "    conf.checkpoint_path,\n",
    "    map_location=torch.device('cuda'),\n",
    ")\n",
    "checkpoint = _pl_migrate_checkpoint(\n",
    "    checkpoint, checkpoint_path=(conf.checkpoint_path if isinstance(conf.checkpoint_path, (str, Path)) else None)\n",
    ")\n",
    "pl_module = _load_state(BasePLModule, checkpoint, config=config, tokenizer=tokenizer, model=model)\n",
    "state_dict = checkpoint[\"state_dict\"]\n",
    "pl_module = cast(BasePLModule, pl_module.to(device))"
   ]
  },
  {
   "cell_type": "code",
   "execution_count": 7,
   "id": "65e04ea3-8719-432a-8571-a05db2edc8f1",
   "metadata": {},
   "outputs": [
    {
     "name": "stderr",
     "output_type": "stream",
     "text": [
      "GPU available: True (cuda), used: True\n",
      "TPU available: False, using: 0 TPU cores\n",
      "HPU available: False, using: 0 HPUs\n",
      "/home/ubuntu/miniconda3/envs/rebel/lib/python3.10/site-packages/pytorch_lightning/trainer/connectors/logger_connector/logger_connector.py:75: Starting from v1.9.0, `tensorboardX` has been removed as a dependency of the `pytorch_lightning` package, due to potential conflicts with other packages in the ML ecosystem. For this reason, `logger=True` will use `CSVLogger` as the default logger, unless the `tensorboard` or `tensorboardX` packages are found. Please `pip install lightning[extra]` or one of them to enable TensorBoard support by default\n",
      "Map:   0%|                                                                         | 0/517701 [00:00<?, ? examples/s]/home/ubuntu/miniconda3/envs/rebel/lib/python3.10/site-packages/transformers/tokenization_utils_base.py:4126: UserWarning: `as_target_tokenizer` is deprecated and will be removed in v5 of Transformers. You can tokenize your labels by using the argument `text_target` of the regular `__call__` method (either in the same call as your input texts if you use the same keyword arguments, or in a separate call.\n",
      "  warnings.warn(\n",
      "Map: 100%|██████████████████████████████████████████████████████████| 517701/517701 [01:07<00:00, 7694.24 examples/s]\n",
      "Map: 100%|████████████████████████████████████████████████████████████| 28505/28505 [00:03<00:00, 7733.25 examples/s]\n",
      "Map: 100%|████████████████████████████████████████████████████████████| 28689/28689 [00:04<00:00, 7023.61 examples/s]\n"
     ]
    }
   ],
   "source": [
    "# pl_module.hparams.predict_with_generate = True\n",
    "pl_module.hparams.test_file = pl_data_module.conf.test_file\n",
    "# trainer\n",
    "trainer = pl.Trainer(\n",
    "        num_nodes=conf.gpus,\n",
    ")\n",
    "# Manually run prep methods on DataModule\n",
    "pl_data_module.prepare_data()\n",
    "pl_data_module.setup('test')\n"
   ]
  },
  {
   "cell_type": "code",
   "execution_count": 9,
   "id": "6f9e4269-8852-4576-b62d-87117ed2c99d",
   "metadata": {},
   "outputs": [
    {
     "name": "stderr",
     "output_type": "stream",
     "text": [
      "LOCAL_RANK: 0 - CUDA_VISIBLE_DEVICES: [0]\n",
      "huggingface/tokenizers: The current process just got forked, after parallelism has already been used. Disabling parallelism to avoid deadlocks...\n",
      "To disable this warning, you can either:\n",
      "\t- Avoid using `tokenizers` before the fork if possible\n",
      "\t- Explicitly set the environment variable TOKENIZERS_PARALLELISM=(true | false)\n",
      "huggingface/tokenizers: The current process just got forked, after parallelism has already been used. Disabling parallelism to avoid deadlocks...\n",
      "To disable this warning, you can either:\n",
      "\t- Avoid using `tokenizers` before the fork if possible\n",
      "\t- Explicitly set the environment variable TOKENIZERS_PARALLELISM=(true | false)\n",
      "huggingface/tokenizers: The current process just got forked, after parallelism has already been used. Disabling parallelism to avoid deadlocks...\n",
      "To disable this warning, you can either:\n",
      "\t- Avoid using `tokenizers` before the fork if possible\n",
      "\t- Explicitly set the environment variable TOKENIZERS_PARALLELISM=(true | false)\n",
      "huggingface/tokenizers: The current process just got forked, after parallelism has already been used. Disabling parallelism to avoid deadlocks...\n",
      "To disable this warning, you can either:\n",
      "\t- Avoid using `tokenizers` before the fork if possible\n",
      "\t- Explicitly set the environment variable TOKENIZERS_PARALLELISM=(true | false)\n"
     ]
    },
    {
     "name": "stdout",
     "output_type": "stream",
     "text": [
      "Testing DataLoader 0:  16%|██████████▍                                                      | 287/1794 [12:50<1:07:24,  0.37it/s]\n",
      "Testing: |                                                                                    | 1794/? [1:19:15<00:00,  0.38it/s]RE Evaluation in *** BOUNDARIES *** mode\n",
      "processed 33281 sentences with 90588 relations; found: 73833 relations; correct: 56530.\n",
      "\tALL\t TP: 56530;\tFP: 17096;\tFN: 33539\n",
      "\t\t(m avg): precision: 76.78;\trecall: 62.76;\tf1: 69.07 (micro)\n",
      "\t\t(M avg): precision: 24.23;\trecall: 12.44;\tf1: 14.84 (Macro)\n",
      "\n",
      "\trelation: \tTP: 0;\tFP: 0;\tFN: 0;\tprecision: 0.00;\trecall: 0.00;\tf1: 0.00;\t0\n",
      "\tکشور: \tTP: 20931;\tFP: 3060;\tFN: 3128;\tprecision: 87.25;\trecall: 87.00;\tf1: 87.12;\t23991\n",
      "\tموقعیت در تقسیمات کشوری: \tTP: 9122;\tFP: 1899;\tFN: 3769;\tprecision: 82.77;\trecall: 70.76;\tf1: 76.30;\t11021\n",
      "\tعضو تیم ورزشی: \tTP: 96;\tFP: 26;\tFN: 80;\tprecision: 78.69;\trecall: 54.55;\tf1: 64.43;\t122\n",
      "\tزیربخش: \tTP: 8269;\tFP: 1811;\tFN: 1668;\tprecision: 82.03;\trecall: 83.21;\tf1: 82.62;\t10080\n",
      "\tتبعۀ: \tTP: 974;\tFP: 667;\tFN: 975;\tprecision: 59.35;\trecall: 49.97;\tf1: 54.26;\t1641\n",
      "\tپیشه: \tTP: 5174;\tFP: 792;\tFN: 1670;\tprecision: 86.72;\trecall: 75.60;\tf1: 80.78;\t5966\n",
      "\tرابطۀ دیپلماتیک: \tTP: 879;\tFP: 1833;\tFN: 1397;\tprecision: 32.41;\trecall: 38.62;\tf1: 35.24;\t2712\n",
      "\tنمونهای از: \tTP: 1931;\tFP: 213;\tFN: 1580;\tprecision: 90.07;\trecall: 55.00;\tf1: 68.29;\t2144\n",
      "\tزبان رسمی: \tTP: 2420;\tFP: 249;\tFN: 266;\tprecision: 90.67;\trecall: 90.10;\tf1: 90.38;\t2669\n",
      "\tزیرردۀ: \tTP: 238;\tFP: 283;\tFN: 1013;\tprecision: 45.68;\trecall: 19.02;\tf1: 26.86;\t521\n",
      "\tهممرز با: \tTP: 87;\tFP: 569;\tFN: 1061;\tprecision: 13.26;\trecall: 7.58;\tf1: 9.65;\t656\n",
      "\tنوع اثر باستانی: \tTP: 51;\tFP: 15;\tFN: 158;\tprecision: 77.27;\trecall: 24.40;\tf1: 37.09;\t66\n",
      "\tبا هنرمندی: \tTP: 17;\tFP: 33;\tFN: 84;\tprecision: 34.00;\trecall: 16.83;\tf1: 22.52;\t50\n",
      "\tطبقه آرایهشناختی: \tTP: 847;\tFP: 645;\tFN: 932;\tprecision: 56.77;\trecall: 47.61;\tf1: 51.79;\t1492\n",
      "\tورزش: \tTP: 1144;\tFP: 337;\tFN: 625;\tprecision: 77.25;\trecall: 64.67;\tf1: 70.40;\t1481\n",
      "\tزادروز: \tTP: 1122;\tFP: 199;\tFN: 397;\tprecision: 84.94;\trecall: 73.86;\tf1: 79.01;\t1321\n",
      "\tجزئی از: \tTP: 115;\tFP: 245;\tFN: 876;\tprecision: 31.94;\trecall: 11.60;\tf1: 17.02;\t360\n",
      "\tدربرگیرنده: \tTP: 94;\tFP: 271;\tFN: 890;\tprecision: 25.75;\trecall: 9.55;\tf1: 13.94;\t365\n",
      "\tزادگاه: \tTP: 107;\tFP: 87;\tFN: 411;\tprecision: 55.15;\trecall: 20.66;\tf1: 30.06;\t194\n",
      "\tمتفاوت است با: \tTP: 10;\tFP: 94;\tFN: 439;\tprecision: 9.62;\trecall: 2.23;\tf1: 3.62;\t104\n",
      "\tزمان مرگ: \tTP: 295;\tFP: 55;\tFN: 345;\tprecision: 84.29;\trecall: 46.09;\tf1: 59.60;\t350\n",
      "\tپایتخت: \tTP: 129;\tFP: 169;\tFN: 715;\tprecision: 43.29;\trecall: 15.28;\tf1: 22.59;\t298\n",
      "\tتاریخ کشف: \tTP: 0;\tFP: 0;\tFN: 8;\tprecision: 0.00;\trecall: 0.00;\tf1: 0.00;\t0\n",
      "\tآرایهٔ والد: \tTP: 92;\tFP: 81;\tFN: 539;\tprecision: 53.18;\trecall: 14.58;\tf1: 22.89;\t173\n",
      "\tجوایز: \tTP: 2;\tFP: 14;\tFN: 50;\tprecision: 12.50;\trecall: 3.85;\tf1: 5.88;\t16\n",
      "\tهمنیا: \tTP: 9;\tFP: 110;\tFN: 207;\tprecision: 7.56;\trecall: 4.17;\tf1: 5.37;\t119\n",
      "\tسبک: \tTP: 178;\tFP: 131;\tFN: 258;\tprecision: 57.61;\trecall: 40.83;\tf1: 47.79;\t309\n",
      "\tکارگردان: \tTP: 102;\tFP: 66;\tFN: 130;\tprecision: 60.71;\trecall: 43.97;\tf1: 51.00;\t168\n",
      "\tشهرهای خواهرخوانده: \tTP: 9;\tFP: 116;\tFN: 123;\tprecision: 7.20;\trecall: 6.82;\tf1: 7.00;\t125\n",
      "\tفرزند: \tTP: 29;\tFP: 138;\tFN: 264;\tprecision: 17.37;\trecall: 9.90;\tf1: 12.61;\t167\n",
      "\tمکان کنونی: \tTP: 4;\tFP: 17;\tFN: 341;\tprecision: 19.05;\trecall: 1.16;\tf1: 2.19;\t21\n",
      "\tپدرش: \tTP: 28;\tFP: 135;\tFN: 220;\tprecision: 17.18;\trecall: 11.29;\tf1: 13.63;\t163\n",
      "\tپیش از: \tTP: 42;\tFP: 104;\tFN: 338;\tprecision: 28.77;\trecall: 11.05;\tf1: 15.97;\t146\n",
      "\tدرجه بالاتر: \tTP: 424;\tFP: 147;\tFN: 40;\tprecision: 74.26;\trecall: 91.38;\tf1: 81.93;\t571\n",
      "\tاثر (ها): \tTP: 9;\tFP: 88;\tFN: 265;\tprecision: 9.28;\trecall: 3.28;\tf1: 4.85;\t97\n",
      "\tدانشآموختهٔ: \tTP: 0;\tFP: 0;\tFN: 16;\tprecision: 0.00;\trecall: 0.00;\tf1: 0.00;\t0\n",
      "\tدرجه پایینتر: \tTP: 166;\tFP: 338;\tFN: 291;\tprecision: 32.94;\trecall: 36.32;\tf1: 34.55;\t504\n",
      "\tزادگاه فرهنگی: \tTP: 76;\tFP: 70;\tFN: 264;\tprecision: 52.05;\trecall: 22.35;\tf1: 31.28;\t146\n",
      "\tپس از: \tTP: 24;\tFP: 69;\tFN: 275;\tprecision: 25.81;\trecall: 8.03;\tf1: 12.24;\t93\n",
      "\tهمسر: \tTP: 37;\tFP: 88;\tFN: 205;\tprecision: 29.60;\trecall: 15.29;\tf1: 20.16;\t125\n",
      "\tمحل مرگ: \tTP: 8;\tFP: 10;\tFN: 114;\tprecision: 44.44;\trecall: 6.56;\tf1: 11.43;\t18\n",
      "\tمحل ستاد: \tTP: 14;\tFP: 32;\tFN: 184;\tprecision: 30.43;\trecall: 7.07;\tf1: 11.48;\t46\n",
      "\tشرکت داشته است در: \tTP: 24;\tFP: 73;\tFN: 91;\tprecision: 24.74;\trecall: 20.87;\tf1: 22.64;\t97\n",
      "\tکار میکند/میکرد در: \tTP: 0;\tFP: 4;\tFN: 92;\tprecision: 0.00;\trecall: 0.00;\tf1: 0.00;\t4\n",
      "\tمتضادِ: \tTP: 4;\tFP: 104;\tFN: 301;\tprecision: 3.70;\trecall: 1.31;\tf1: 1.94;\t108\n",
      "\tاجرا کننده: \tTP: 92;\tFP: 63;\tFN: 134;\tprecision: 59.35;\trecall: 40.71;\tf1: 48.29;\t155\n",
      "\tزبان مورد استفاده: \tTP: 216;\tFP: 18;\tFN: 131;\tprecision: 92.31;\trecall: 62.25;\tf1: 74.35;\t234\n",
      "\tپایتخت است برای: \tTP: 34;\tFP: 95;\tFN: 291;\tprecision: 26.36;\trecall: 10.46;\tf1: 14.98;\t129\n",
      "\tنامیده به نامِ: \tTP: 3;\tFP: 5;\tFN: 101;\tprecision: 37.50;\trecall: 2.88;\tf1: 5.36;\t8\n",
      "\tزمینه کاری: \tTP: 16;\tFP: 20;\tFN: 172;\tprecision: 44.44;\trecall: 8.51;\tf1: 14.29;\t36\n",
      "\tنویسنده: \tTP: 63;\tFP: 221;\tFN: 141;\tprecision: 22.18;\trecall: 30.88;\tf1: 25.82;\t284\n",
      "\tاز اعضای: \tTP: 6;\tFP: 40;\tFN: 82;\tprecision: 13.04;\trecall: 6.82;\tf1: 8.96;\t46\n",
      "\tعضو حزب: \tTP: 4;\tFP: 6;\tFN: 68;\tprecision: 40.00;\trecall: 5.56;\tf1: 9.76;\t10\n",
      "\tجنگها: \tTP: 20;\tFP: 70;\tFN: 102;\tprecision: 22.22;\trecall: 16.39;\tf1: 18.87;\t90\n",
      "\tبا حضورِ: \tTP: 14;\tFP: 70;\tFN: 143;\tprecision: 16.67;\trecall: 8.92;\tf1: 11.62;\t84\n",
      "\tکشور (ورزشکار): \tTP: 83;\tFP: 27;\tFN: 33;\tprecision: 75.45;\trecall: 71.55;\tf1: 73.45;\t110\n",
      "\tبنیانگذار: \tTP: 1;\tFP: 47;\tFN: 147;\tprecision: 2.08;\trecall: 0.68;\tf1: 1.02;\t48\n",
      "\tپست (درون تیم): \tTP: 118;\tFP: 37;\tFN: 63;\tprecision: 76.13;\trecall: 65.19;\tf1: 70.24;\t155\n",
      "\tمتأثر از: \tTP: 0;\tFP: 2;\tFN: 82;\tprecision: 0.00;\trecall: 0.00;\tf1: 0.00;\t2\n",
      "\tمنصب: \tTP: 3;\tFP: 9;\tFN: 104;\tprecision: 25.00;\trecall: 2.80;\tf1: 5.04;\t12\n",
      "\tسازنده: \tTP: 36;\tFP: 31;\tFN: 125;\tprecision: 53.73;\trecall: 22.36;\tf1: 31.58;\t67\n",
      "\tزبانهای شخص: \tTP: 3;\tFP: 12;\tFN: 83;\tprecision: 20.00;\trecall: 3.49;\tf1: 5.94;\t15\n",
      "\tپیرامون: \tTP: 0;\tFP: 2;\tFN: 91;\tprecision: 0.00;\trecall: 0.00;\tf1: 0.00;\t2\n",
      "\tلیگ: \tTP: 24;\tFP: 33;\tFN: 61;\tprecision: 42.11;\trecall: 28.24;\tf1: 33.80;\t57\n",
      "\tزمان رویداد: \tTP: 16;\tFP: 16;\tFN: 79;\tprecision: 50.00;\trecall: 16.84;\tf1: 25.20;\t32\n",
      "\tبرنده: \tTP: 0;\tFP: 13;\tFN: 45;\tprecision: 0.00;\trecall: 0.00;\tf1: 0.00;\t13\n",
      "\tآب سطحی پیرامون: \tTP: 18;\tFP: 83;\tFN: 112;\tprecision: 17.82;\trecall: 13.85;\tf1: 15.58;\t101\n",
      "\tبه جای: \tTP: 42;\tFP: 26;\tFN: 77;\tprecision: 61.76;\trecall: 35.29;\tf1: 44.92;\t68\n",
      "\tدارنده: \tTP: 12;\tFP: 37;\tFN: 83;\tprecision: 24.49;\trecall: 12.63;\tf1: 16.67;\t49\n",
      "\tاشاره شده در کتابِ: \tTP: 9;\tFP: 18;\tFN: 61;\tprecision: 33.33;\trecall: 12.86;\tf1: 18.56;\t27\n",
      "\tفصل ورزشی: \tTP: 1;\tFP: 11;\tFN: 75;\tprecision: 8.33;\trecall: 1.32;\tf1: 2.27;\t12\n",
      "\tدین: \tTP: 0;\tFP: 26;\tFN: 81;\tprecision: 0.00;\trecall: 0.00;\tf1: 0.00;\t26\n",
      "\tنهاد ارشد: \tTP: 0;\tFP: 12;\tFN: 105;\tprecision: 0.00;\trecall: 0.00;\tf1: 0.00;\t12\n",
      "\tتیمهای شرکتکننده: \tTP: 17;\tFP: 6;\tFN: 38;\tprecision: 73.91;\trecall: 30.91;\tf1: 43.59;\t23\n",
      "\tکاربری: \tTP: 6;\tFP: 0;\tFN: 74;\tprecision: 100.00;\trecall: 7.50;\tf1: 13.95;\t6\n",
      "\tتولیدکنندهٔ: \tTP: 2;\tFP: 2;\tFN: 95;\tprecision: 50.00;\trecall: 2.06;\tf1: 3.96;\t4\n",
      "\tرخداد مهم: \tTP: 1;\tFP: 13;\tFN: 111;\tprecision: 7.14;\trecall: 0.89;\tf1: 1.59;\t14\n",
      "\tکارفرما: \tTP: 6;\tFP: 8;\tFN: 37;\tprecision: 42.86;\trecall: 13.95;\tf1: 21.05;\t14\n",
      "\tشهرهای تحت پوشش: \tTP: 11;\tFP: 17;\tFN: 23;\tprecision: 39.29;\trecall: 32.35;\tf1: 35.48;\t28\n",
      "\tپدیدآورنده: \tTP: 1;\tFP: 9;\tFN: 74;\tprecision: 10.00;\trecall: 1.33;\tf1: 2.35;\t10\n",
      "\tقاره: \tTP: 0;\tFP: 43;\tFN: 50;\tprecision: 0.00;\trecall: 0.00;\tf1: 0.00;\t43\n",
      "\tموقعیت: \tTP: 21;\tFP: 0;\tFN: 74;\tprecision: 100.00;\trecall: 22.11;\tf1: 36.21;\t21\n",
      "\tبومی برای: \tTP: 38;\tFP: 13;\tFN: 68;\tprecision: 74.51;\trecall: 35.85;\tf1: 48.41;\t51\n",
      "\tمتشکل از عناصر: \tTP: 72;\tFP: 5;\tFN: 31;\tprecision: 93.51;\trecall: 69.90;\tf1: 80.00;\t77\n",
      "\tمادرش: \tTP: 0;\tFP: 0;\tFN: 44;\tprecision: 0.00;\trecall: 0.00;\tf1: 0.00;\t0\n",
      "\tشرکتهای زیرمجموعه: \tTP: 0;\tFP: 12;\tFN: 108;\tprecision: 0.00;\trecall: 0.00;\tf1: 0.00;\t12\n",
      "\tنامزد جایزۀ: \tTP: 0;\tFP: 2;\tFN: 3;\tprecision: 0.00;\trecall: 0.00;\tf1: 0.00;\t2\n",
      "\tجایگزینشده توسط: \tTP: 10;\tFP: 4;\tFN: 56;\tprecision: 71.43;\trecall: 15.15;\tf1: 25.00;\t14\n",
      "\tخاندان: \tTP: 9;\tFP: 29;\tFN: 50;\tprecision: 23.68;\trecall: 15.25;\tf1: 18.56;\t38\n",
      "\tسکو: \tTP: 17;\tFP: 62;\tFN: 34;\tprecision: 21.52;\trecall: 33.33;\tf1: 26.15;\t79\n",
      "\tساز: \tTP: 3;\tFP: 1;\tFN: 39;\tprecision: 75.00;\trecall: 7.14;\tf1: 13.04;\t4\n",
      "\tبر پایه: \tTP: 0;\tFP: 0;\tFN: 52;\tprecision: 0.00;\trecall: 0.00;\tf1: 0.00;\t0\n",
      "\tمتصل به: \tTP: 0;\tFP: 0;\tFN: 37;\tprecision: 0.00;\trecall: 0.00;\tf1: 0.00;\t0\n",
      "\tدارای خصوصیت: \tTP: 0;\tFP: 0;\tFN: 18;\tprecision: 0.00;\trecall: 0.00;\tf1: 0.00;\t0\n",
      "\tموضوع مطالعهشده در: \tTP: 0;\tFP: 20;\tFN: 54;\tprecision: 0.00;\trecall: 0.00;\tf1: 0.00;\t20\n",
      "\tپیامدها: \tTP: 0;\tFP: 0;\tFN: 57;\tprecision: 0.00;\trecall: 0.00;\tf1: 0.00;\t0\n",
      "\tمتعلق به حوزهٔ قضایی: \tTP: 6;\tFP: 0;\tFN: 60;\tprecision: 100.00;\trecall: 9.09;\tf1: 16.67;\t6\n",
      "\tمحل انجام کار: \tTP: 0;\tFP: 0;\tFN: 20;\tprecision: 0.00;\trecall: 0.00;\tf1: 0.00;\t0\n",
      "\tشخصیتها: \tTP: 6;\tFP: 3;\tFN: 43;\tprecision: 66.67;\trecall: 12.24;\tf1: 20.69;\t9\n",
      "\tدنباله: \tTP: 3;\tFP: 20;\tFN: 44;\tprecision: 13.04;\trecall: 6.38;\tf1: 8.57;\t23\n",
      "\tگفته میشود یکی است با: \tTP: 0;\tFP: 0;\tFN: 69;\tprecision: 0.00;\trecall: 0.00;\tf1: 0.00;\t0\n",
      "\tتوسعهدهنده: \tTP: 1;\tFP: 30;\tFN: 65;\tprecision: 3.23;\trecall: 1.52;\tf1: 2.06;\t31\n",
      "\tمسئول سازماندهی: \tTP: 17;\tFP: 5;\tFN: 48;\tprecision: 77.27;\trecall: 26.15;\tf1: 39.08;\t22\n",
      "\tتاریخ انتشار: \tTP: 2;\tFP: 0;\tFN: 19;\tprecision: 100.00;\trecall: 9.52;\tf1: 17.39;\t2\n",
      "\tدارایی: \tTP: 4;\tFP: 9;\tFN: 60;\tprecision: 30.77;\trecall: 6.25;\tf1: 10.39;\t13\n",
      "\tتاریخ ساخت / تأسیس: \tTP: 0;\tFP: 0;\tFN: 0;\tprecision: 0.00;\trecall: 0.00;\tf1: 0.00;\t0\n",
      "\tصنعت: \tTP: 4;\tFP: 4;\tFN: 76;\tprecision: 50.00;\trecall: 5.00;\tf1: 9.09;\t8\n",
      "\tموضوع اصلی: \tTP: 0;\tFP: 4;\tFN: 11;\tprecision: 0.00;\trecall: 0.00;\tf1: 0.00;\t4\n",
      "\tاز دانشجویانِ: \tTP: 0;\tFP: 2;\tFN: 27;\tprecision: 0.00;\trecall: 0.00;\tf1: 0.00;\t2\n",
      "\tمربی تیم(های) ورزشیِ: \tTP: 0;\tFP: 0;\tFN: 1;\tprecision: 0.00;\trecall: 0.00;\tf1: 0.00;\t0\n",
      "\tجای زندگی: \tTP: 0;\tFP: 0;\tFN: 8;\tprecision: 0.00;\trecall: 0.00;\tf1: 0.00;\t0\n",
      "\tپخش شده از شبکه یا کانالِ: \tTP: 0;\tFP: 1;\tFN: 24;\tprecision: 0.00;\trecall: 0.00;\tf1: 0.00;\t1\n",
      "\tخویشاوند: \tTP: 0;\tFP: 0;\tFN: 42;\tprecision: 0.00;\trecall: 0.00;\tf1: 0.00;\t0\n",
      "\tزبان اثر یا نام: \tTP: 1;\tFP: 5;\tFN: 36;\tprecision: 16.67;\trecall: 2.70;\tf1: 4.65;\t6\n",
      "\tبرچسب ضبط: \tTP: 0;\tFP: 0;\tFN: 64;\tprecision: 0.00;\trecall: 0.00;\tf1: 0.00;\t0\n",
      "\tبه کار میبرد: \tTP: 0;\tFP: 2;\tFN: 34;\tprecision: 0.00;\trecall: 0.00;\tf1: 0.00;\t2\n",
      "\tزمان پایان: \tTP: 3;\tFP: 5;\tFN: 26;\tprecision: 37.50;\trecall: 10.34;\tf1: 16.22;\t8\n",
      "\tسامانه بزرگراهی: \tTP: 44;\tFP: 45;\tFN: 19;\tprecision: 49.44;\trecall: 69.84;\tf1: 57.89;\t89\n",
      "\tجنبش ادبی: \tTP: 0;\tFP: 1;\tFN: 32;\tprecision: 0.00;\trecall: 0.00;\tf1: 0.00;\t1\n",
      "\tشاخهٔ نظامی: \tTP: 3;\tFP: 9;\tFN: 25;\tprecision: 25.00;\trecall: 10.71;\tf1: 15.00;\t12\n",
      "\tنقش موضوع موردنظر در این رویداد: \tTP: 0;\tFP: 5;\tFN: 16;\tprecision: 0.00;\trecall: 0.00;\tf1: 0.00;\t5\n",
      "\tمواد سازنده: \tTP: 0;\tFP: 0;\tFN: 29;\tprecision: 0.00;\trecall: 0.00;\tf1: 0.00;\t0\n",
      "\tمکان شکلگیری: \tTP: 0;\tFP: 1;\tFN: 36;\tprecision: 0.00;\trecall: 0.00;\tf1: 0.00;\t1\n",
      "\tتهیهکننده: \tTP: 0;\tFP: 0;\tFN: 8;\tprecision: 0.00;\trecall: 0.00;\tf1: 0.00;\t0\n",
      "\tآهنگساز: \tTP: 3;\tFP: 2;\tFN: 32;\tprecision: 60.00;\trecall: 8.57;\tf1: 15.00;\t5\n",
      "\tزمان آغاز: \tTP: 2;\tFP: 4;\tFN: 15;\tprecision: 33.33;\trecall: 11.76;\tf1: 17.39;\t6\n",
      "\tعلتهای احتمالی: \tTP: 0;\tFP: 2;\tFN: 38;\tprecision: 0.00;\trecall: 0.00;\tf1: 0.00;\t2\n",
      "\tشاگردان: \tTP: 0;\tFP: 0;\tFN: 25;\tprecision: 0.00;\trecall: 0.00;\tf1: 0.00;\t0\n",
      "\tکاشف: \tTP: 0;\tFP: 0;\tFN: 19;\tprecision: 0.00;\trecall: 0.00;\tf1: 0.00;\t0\n",
      "\tیار: \tTP: 0;\tFP: 0;\tFN: 43;\tprecision: 0.00;\trecall: 0.00;\tf1: 0.00;\t0\n",
      "\tفیلمنامهنویس: \tTP: 0;\tFP: 0;\tFN: 16;\tprecision: 0.00;\trecall: 0.00;\tf1: 0.00;\t0\n",
      "\tدرمان کننده بیماری: \tTP: 1;\tFP: 1;\tFN: 37;\tprecision: 50.00;\trecall: 2.63;\tf1: 5.00;\t2\n",
      "\tکشورهای ساحلی دریاچه: \tTP: 0;\tFP: 1;\tFN: 66;\tprecision: 0.00;\trecall: 0.00;\tf1: 0.00;\t1\n",
      "\tدشمنِ: \tTP: 0;\tFP: 2;\tFN: 17;\tprecision: 0.00;\trecall: 0.00;\tf1: 0.00;\t2\n",
      "\tآرامگاه: \tTP: 0;\tFP: 0;\tFN: 6;\tprecision: 0.00;\trecall: 0.00;\tf1: 0.00;\t0\n",
      "\tمیریزد به: \tTP: 6;\tFP: 20;\tFN: 44;\tprecision: 23.08;\trecall: 12.00;\tf1: 15.79;\t26\n",
      "\tداروهای نامناسب برای مصرف همزمان: \tTP: 2;\tFP: 2;\tFN: 28;\tprecision: 50.00;\trecall: 6.67;\tf1: 11.76;\t4\n",
      "\tواقع شده در سرزمین ... امروزی: \tTP: 0;\tFP: 0;\tFN: 0;\tprecision: 0.00;\trecall: 0.00;\tf1: 0.00;\t0\n",
      "\tخطوط ارتباطی: \tTP: 1;\tFP: 3;\tFN: 43;\tprecision: 25.00;\trecall: 2.27;\tf1: 4.17;\t4\n",
      "\tشخص برجسته: \tTP: 0;\tFP: 0;\tFN: 33;\tprecision: 0.00;\trecall: 0.00;\tf1: 0.00;\t0\n",
      "\tقوم: \tTP: 0;\tFP: 1;\tFN: 37;\tprecision: 0.00;\trecall: 0.00;\tf1: 0.00;\t1\n",
      "\tدر رشتۀ ورزشیِ: \tTP: 20;\tFP: 6;\tFN: 33;\tprecision: 76.92;\trecall: 37.74;\tf1: 50.63;\t26\n",
      "\tمأموریتهای فضایی موفق: \tTP: 0;\tFP: 0;\tFN: 0;\tprecision: 0.00;\trecall: 0.00;\tf1: 0.00;\t0\n",
      "\tدارای همپوشانی با: \tTP: 0;\tFP: 0;\tFN: 33;\tprecision: 0.00;\trecall: 0.00;\tf1: 0.00;\t0\n",
      "\tناشر: \tTP: 3;\tFP: 5;\tFN: 13;\tprecision: 37.50;\trecall: 18.75;\tf1: 25.00;\t8\n",
      "\tمرکز خطوط هوایی: \tTP: 0;\tFP: 0;\tFN: 4;\tprecision: 0.00;\trecall: 0.00;\tf1: 0.00;\t0\n",
      "\tدوران: \tTP: 0;\tFP: 8;\tFN: 25;\tprecision: 0.00;\trecall: 0.00;\tf1: 0.00;\t8\n",
      "\tسیستم عامل: \tTP: 2;\tFP: 18;\tFN: 23;\tprecision: 10.00;\trecall: 8.00;\tf1: 8.89;\t20\n",
      "\tمدیر مسئول: \tTP: 0;\tFP: 0;\tFN: 37;\tprecision: 0.00;\trecall: 0.00;\tf1: 0.00;\t0\n",
      "\tموضوع مورد مطالعه: \tTP: 0;\tFP: 0;\tFN: 41;\tprecision: 0.00;\trecall: 0.00;\tf1: 0.00;\t0\n",
      "\tعلت مرگ: \tTP: 0;\tFP: 0;\tFN: 1;\tprecision: 0.00;\trecall: 0.00;\tf1: 0.00;\t0\n",
      "\tدارو و درمان: \tTP: 0;\tFP: 0;\tFN: 35;\tprecision: 0.00;\trecall: 0.00;\tf1: 0.00;\t0\n",
      "\tزبان مادری: \tTP: 0;\tFP: 0;\tFN: 24;\tprecision: 0.00;\trecall: 0.00;\tf1: 0.00;\t0\n",
      "\tبه کار رفته توسط: \tTP: 0;\tFP: 0;\tFN: 24;\tprecision: 0.00;\trecall: 0.00;\tf1: 0.00;\t0\n",
      "\tبهابازار: \tTP: 0;\tFP: 0;\tFN: 2;\tprecision: 0.00;\trecall: 0.00;\tf1: 0.00;\t0\n",
      "\tدر اختیارِ: \tTP: 0;\tFP: 0;\tFN: 24;\tprecision: 0.00;\trecall: 0.00;\tf1: 0.00;\t0\n",
      "\tاعطاشده توسط: \tTP: 0;\tFP: 3;\tFN: 18;\tprecision: 0.00;\trecall: 0.00;\tf1: 0.00;\t3\n",
      "\tسرایندۀ اشعار: \tTP: 0;\tFP: 0;\tFN: 3;\tprecision: 0.00;\trecall: 0.00;\tf1: 0.00;\t0\n",
      "\tصورت فلکی: \tTP: 0;\tFP: 30;\tFN: 20;\tprecision: 0.00;\trecall: 0.00;\tf1: 0.00;\t30\n",
      "\tکننده کار: \tTP: 0;\tFP: 0;\tFN: 23;\tprecision: 0.00;\trecall: 0.00;\tf1: 0.00;\t0\n",
      "\tاثر اشتقاقی: \tTP: 0;\tFP: 0;\tFN: 21;\tprecision: 0.00;\trecall: 0.00;\tf1: 0.00;\t0\n",
      "\tسکونتگاههای در محدوده: \tTP: 3;\tFP: 0;\tFN: 27;\tprecision: 100.00;\trecall: 10.00;\tf1: 18.18;\t3\n",
      "\tاجاره شده از سوی: \tTP: 0;\tFP: 0;\tFN: 19;\tprecision: 0.00;\trecall: 0.00;\tf1: 0.00;\t0\n",
      "\tزمینۀ حرفهای: \tTP: 0;\tFP: 0;\tFN: 21;\tprecision: 0.00;\trecall: 0.00;\tf1: 0.00;\t0\n",
      "\tانشعاب میگیرد از: \tTP: 0;\tFP: 1;\tFN: 44;\tprecision: 0.00;\trecall: 0.00;\tf1: 0.00;\t1\n",
      "\tشاغل مقام: \tTP: 0;\tFP: 16;\tFN: 28;\tprecision: 0.00;\trecall: 0.00;\tf1: 0.00;\t16\n",
      "\tنشانگان: \tTP: 0;\tFP: 4;\tFN: 7;\tprecision: 0.00;\trecall: 0.00;\tf1: 0.00;\t4\n",
      "\tهمتیمی: \tTP: 0;\tFP: 0;\tFN: 22;\tprecision: 0.00;\trecall: 0.00;\tf1: 0.00;\t0\n",
      "\tحاکم: \tTP: 0;\tFP: 8;\tFN: 17;\tprecision: 0.00;\trecall: 0.00;\tf1: 0.00;\t8\n",
      "\tتوصیفها: \tTP: 0;\tFP: 0;\tFN: 8;\tprecision: 0.00;\trecall: 0.00;\tf1: 0.00;\t0\n",
      "\tخدای: \tTP: 4;\tFP: 13;\tFN: 11;\tprecision: 23.53;\trecall: 26.67;\tf1: 25.00;\t17\n",
      "\tایدئولوژی سیاسی: \tTP: 0;\tFP: 0;\tFN: 14;\tprecision: 0.00;\trecall: 0.00;\tf1: 0.00;\t0\n",
      "\tعضو تیمِ: \tTP: 0;\tFP: 0;\tFN: 0;\tprecision: 0.00;\trecall: 0.00;\tf1: 0.00;\t0\n",
      "\tمجلس: \tTP: 6;\tFP: 3;\tFN: 13;\tprecision: 66.67;\trecall: 31.58;\tf1: 42.86;\t9\n",
      "\tکمارتفاعترین نقطه: \tTP: 0;\tFP: 0;\tFN: 19;\tprecision: 0.00;\trecall: 0.00;\tf1: 0.00;\t0\n",
      "\tوضعیت اکسایش: \tTP: 0;\tFP: 0;\tFN: 13;\tprecision: 0.00;\trecall: 0.00;\tf1: 0.00;\t0\n",
      "\tصدا پیشه: \tTP: 0;\tFP: 0;\tFN: 3;\tprecision: 0.00;\trecall: 0.00;\tf1: 0.00;\t0\n",
      "\tتوزیع کننده: \tTP: 0;\tFP: 0;\tFN: 6;\tprecision: 0.00;\trecall: 0.00;\tf1: 0.00;\t0\n",
      "\tشرکتهای رسانه: \tTP: 0;\tFP: 0;\tFN: 10;\tprecision: 0.00;\trecall: 0.00;\tf1: 0.00;\t0\n",
      "\tشکل اثر خلاقانه: \tTP: 0;\tFP: 0;\tFN: 26;\tprecision: 0.00;\trecall: 0.00;\tf1: 0.00;\t0\n",
      "\tوابستگی: \tTP: 0;\tFP: 0;\tFN: 13;\tprecision: 0.00;\trecall: 0.00;\tf1: 0.00;\t0\n",
      "\tاستاد راهنمای تز دکترا: \tTP: 0;\tFP: 0;\tFN: 4;\tprecision: 0.00;\trecall: 0.00;\tf1: 0.00;\t0\n",
      "\tپایانه: \tTP: 1;\tFP: 7;\tFN: 15;\tprecision: 12.50;\trecall: 6.25;\tf1: 8.33;\t8\n",
      "\tدرجۀ نظامی: \tTP: 0;\tFP: 0;\tFN: 20;\tprecision: 0.00;\trecall: 0.00;\tf1: 0.00;\t0\n",
      "\tزبان برنامهنویسی: \tTP: 0;\tFP: 0;\tFN: 17;\tprecision: 0.00;\trecall: 0.00;\tf1: 0.00;\t0\n",
      "\tمعمار: \tTP: 0;\tFP: 0;\tFN: 2;\tprecision: 0.00;\trecall: 0.00;\tf1: 0.00;\t0\n",
      "\tخط: \tTP: 0;\tFP: 0;\tFN: 18;\tprecision: 0.00;\trecall: 0.00;\tf1: 0.00;\t0\n",
      "\tامضاکنندگان: \tTP: 0;\tFP: 0;\tFN: 8;\tprecision: 0.00;\trecall: 0.00;\tf1: 0.00;\t0\n",
      "\tبدنه اصلی: \tTP: 0;\tFP: 0;\tFN: 7;\tprecision: 0.00;\trecall: 0.00;\tf1: 0.00;\t0\n",
      "\tزیرآرایهها: \tTP: 0;\tFP: 1;\tFN: 31;\tprecision: 0.00;\trecall: 0.00;\tf1: 0.00;\t1\n",
      "\tبلندترین نقطه: \tTP: 1;\tFP: 1;\tFN: 16;\tprecision: 50.00;\trecall: 5.88;\tf1: 10.53;\t2\n",
      "\tنامزد انتخاباتی: \tTP: 0;\tFP: 0;\tFN: 0;\tprecision: 0.00;\trecall: 0.00;\tf1: 0.00;\t0\n",
      "\tرشته کوه: \tTP: 0;\tFP: 0;\tFN: 12;\tprecision: 0.00;\trecall: 0.00;\tf1: 0.00;\t0\n",
      "\tمکان وقوع داستان: \tTP: 0;\tFP: 0;\tFN: 3;\tprecision: 0.00;\trecall: 0.00;\tf1: 0.00;\t0\n",
      "\tزبان اصلی: \tTP: 0;\tFP: 0;\tFN: 16;\tprecision: 0.00;\trecall: 0.00;\tf1: 0.00;\t0\n",
      "\tایستگاه های همجوار: \tTP: 0;\tFP: 0;\tFN: 10;\tprecision: 0.00;\trecall: 0.00;\tf1: 0.00;\t0\n",
      "Testing: |                                                                                    | 1794/? [1:19:25<00:00,  0.38it/s]\n"
     ]
    },
    {
     "data": {
      "text/html": [
       "<pre style=\"white-space:pre;overflow-x:auto;line-height:normal;font-family:Menlo,'DejaVu Sans Mono',consolas,'Courier New',monospace\">┏━━━━━━━━━━━━━━━━━━━━━━━━━━━┳━━━━━━━━━━━━━━━━━━━━━━━━━━━┓\n",
       "┃<span style=\"font-weight: bold\">        Test metric        </span>┃<span style=\"font-weight: bold\">       DataLoader 0        </span>┃\n",
       "┡━━━━━━━━━━━━━━━━━━━━━━━━━━━╇━━━━━━━━━━━━━━━━━━━━━━━━━━━┩\n",
       "│<span style=\"color: #008080; text-decoration-color: #008080\">       test_F1_micro       </span>│<span style=\"color: #800080; text-decoration-color: #800080\">     69.06747436523438     </span>│\n",
       "│<span style=\"color: #008080; text-decoration-color: #008080\">         test_loss         </span>│<span style=\"color: #800080; text-decoration-color: #800080\">    0.15421459078788757    </span>│\n",
       "│<span style=\"color: #008080; text-decoration-color: #008080\">      test_prec_micro      </span>│<span style=\"color: #800080; text-decoration-color: #800080\">     76.77994537353516     </span>│\n",
       "│<span style=\"color: #008080; text-decoration-color: #008080\">     test_recall_micro     </span>│<span style=\"color: #800080; text-decoration-color: #800080\">     62.76299285888672     </span>│\n",
       "└───────────────────────────┴───────────────────────────┘\n",
       "</pre>\n"
      ],
      "text/plain": [
       "┏━━━━━━━━━━━━━━━━━━━━━━━━━━━┳━━━━━━━━━━━━━━━━━━━━━━━━━━━┓\n",
       "┃\u001b[1m \u001b[0m\u001b[1m       Test metric       \u001b[0m\u001b[1m \u001b[0m┃\u001b[1m \u001b[0m\u001b[1m      DataLoader 0       \u001b[0m\u001b[1m \u001b[0m┃\n",
       "┡━━━━━━━━━━━━━━━━━━━━━━━━━━━╇━━━━━━━━━━━━━━━━━━━━━━━━━━━┩\n",
       "│\u001b[36m \u001b[0m\u001b[36m      test_F1_micro      \u001b[0m\u001b[36m \u001b[0m│\u001b[35m \u001b[0m\u001b[35m    69.06747436523438    \u001b[0m\u001b[35m \u001b[0m│\n",
       "│\u001b[36m \u001b[0m\u001b[36m        test_loss        \u001b[0m\u001b[36m \u001b[0m│\u001b[35m \u001b[0m\u001b[35m   0.15421459078788757   \u001b[0m\u001b[35m \u001b[0m│\n",
       "│\u001b[36m \u001b[0m\u001b[36m     test_prec_micro     \u001b[0m\u001b[36m \u001b[0m│\u001b[35m \u001b[0m\u001b[35m    76.77994537353516    \u001b[0m\u001b[35m \u001b[0m│\n",
       "│\u001b[36m \u001b[0m\u001b[36m    test_recall_micro    \u001b[0m\u001b[36m \u001b[0m│\u001b[35m \u001b[0m\u001b[35m    62.76299285888672    \u001b[0m\u001b[35m \u001b[0m│\n",
       "└───────────────────────────┴───────────────────────────┘\n"
      ]
     },
     "metadata": {},
     "output_type": "display_data"
    }
   ],
   "source": [
    "result = trainer.test(pl_module, dataloaders=pl_data_module.test_dataloader())"
   ]
  },
  {
   "cell_type": "code",
   "execution_count": 12,
   "id": "17b943fb-6dd7-4fff-b0af-1c65571694ad",
   "metadata": {
    "scrolled": true
   },
   "outputs": [
    {
     "data": {
      "text/plain": [
       "[{'test_loss': 0.15421459078788757,\n",
       "  'test_prec_micro': 76.77994537353516,\n",
       "  'test_recall_micro': 62.76299285888672,\n",
       "  'test_F1_micro': 69.06747436523438}]"
      ]
     },
     "execution_count": 12,
     "metadata": {},
     "output_type": "execute_result"
    }
   ],
   "source": [
    "result"
   ]
  },
  {
   "cell_type": "code",
   "execution_count": null,
   "id": "810823b1-34ae-4dd1-b1a4-2452bc22c1f2",
   "metadata": {},
   "outputs": [],
   "source": []
  },
  {
   "cell_type": "code",
   "execution_count": 15,
   "id": "0552b73c-2a08-40ce-ad54-dafab2533400",
   "metadata": {},
   "outputs": [],
   "source": [
    "from transformers import default_data_collator\n",
    "from torch.utils.data import DataLoader\n",
    "\n",
    "def inference_dataloader(dataset, batch_size=8, label_pad_token_id=-100, drop_last=False, num_workers=4, pin_memory=True) -> DataLoader:\n",
    "    return DataLoader(\n",
    "        dataset,\n",
    "        batch_size=batch_size,\n",
    "        collate_fn=default_data_collator,\n",
    "        drop_last=drop_last,\n",
    "        num_workers=num_workers,\n",
    "        pin_memory=pin_memory,\n",
    "        shuffle=False\n",
    "    )\n"
   ]
  },
  {
   "cell_type": "code",
   "execution_count": null,
   "id": "1fb2fcf9-3672-49de-9fd5-221f587aa336",
   "metadata": {},
   "outputs": [],
   "source": []
  },
  {
   "cell_type": "code",
   "execution_count": 18,
   "id": "18199661-41ba-409c-97d5-b39cc8428d27",
   "metadata": {},
   "outputs": [],
   "source": [
    "examples = pl_data_module.test_dataset[0]"
   ]
  },
  {
   "cell_type": "code",
   "execution_count": 19,
   "id": "2249fcaf-11b8-46bb-bf8d-efe6af87b918",
   "metadata": {},
   "outputs": [
    {
     "data": {
      "text/plain": [
       "{'input_ids': [10126,\n",
       "  74494,\n",
       "  42591,\n",
       "  274,\n",
       "  7298,\n",
       "  3814,\n",
       "  2580,\n",
       "  259,\n",
       "  271,\n",
       "  2665,\n",
       "  10882,\n",
       "  10948,\n",
       "  33719,\n",
       "  29781,\n",
       "  1164,\n",
       "  376,\n",
       "  5320,\n",
       "  3816,\n",
       "  950,\n",
       "  934,\n",
       "  10882,\n",
       "  406,\n",
       "  695,\n",
       "  14085,\n",
       "  376,\n",
       "  5215,\n",
       "  46155,\n",
       "  5677,\n",
       "  950,\n",
       "  259,\n",
       "  260,\n",
       "  1],\n",
       " 'attention_mask': [1,\n",
       "  1,\n",
       "  1,\n",
       "  1,\n",
       "  1,\n",
       "  1,\n",
       "  1,\n",
       "  1,\n",
       "  1,\n",
       "  1,\n",
       "  1,\n",
       "  1,\n",
       "  1,\n",
       "  1,\n",
       "  1,\n",
       "  1,\n",
       "  1,\n",
       "  1,\n",
       "  1,\n",
       "  1,\n",
       "  1,\n",
       "  1,\n",
       "  1,\n",
       "  1,\n",
       "  1,\n",
       "  1,\n",
       "  1,\n",
       "  1,\n",
       "  1,\n",
       "  1,\n",
       "  1,\n",
       "  1],\n",
       " 'labels': [250100,\n",
       "  10126,\n",
       "  74494,\n",
       "  42591,\n",
       "  134030,\n",
       "  3814,\n",
       "  2580,\n",
       "  271,\n",
       "  250102,\n",
       "  1164,\n",
       "  376,\n",
       "  5320,\n",
       "  3816,\n",
       "  250101,\n",
       "  6034,\n",
       "  1]}"
      ]
     },
     "execution_count": 19,
     "metadata": {},
     "output_type": "execute_result"
    }
   ],
   "source": [
    "examples"
   ]
  },
  {
   "cell_type": "code",
   "execution_count": null,
   "id": "ac9dcdc4-0658-4a35-8d2e-17c990837913",
   "metadata": {},
   "outputs": [],
   "source": [
    "dataset = [\n",
    "    {\n",
    "        \"\"\n",
    "    }\n",
    "]"
   ]
  }
 ],
 "metadata": {
  "kernelspec": {
   "display_name": "Python 3 (ipykernel)",
   "language": "python",
   "name": "python3"
  },
  "language_info": {
   "codemirror_mode": {
    "name": "ipython",
    "version": 3
   },
   "file_extension": ".py",
   "mimetype": "text/x-python",
   "name": "python",
   "nbconvert_exporter": "python",
   "pygments_lexer": "ipython3",
   "version": "3.10.14"
  }
 },
 "nbformat": 4,
 "nbformat_minor": 5
}
