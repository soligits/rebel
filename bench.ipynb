{
 "cells": [
  {
   "cell_type": "code",
   "execution_count": 1,
   "id": "59deb249-63df-48d4-a9aa-c920b07ca362",
   "metadata": {},
   "outputs": [
    {
     "name": "stdout",
     "output_type": "stream",
     "text": [
      "/home/ubuntu/rebel/src\n"
     ]
    },
    {
     "name": "stderr",
     "output_type": "stream",
     "text": [
      "/home/ubuntu/miniconda3/envs/rebel/lib/python3.10/site-packages/IPython/core/magics/osm.py:417: UserWarning: This is now an optional IPython functionality, setting dhist requires you to install the `pickleshare` library.\n",
      "  self.shell.db['dhist'] = compress_dhist(dhist)[-100:]\n"
     ]
    }
   ],
   "source": [
    "%cd src"
   ]
  },
  {
   "cell_type": "code",
   "execution_count": 2,
   "id": "c8d7fe1e-7344-4233-ba9e-40f836ce3bef",
   "metadata": {},
   "outputs": [
    {
     "name": "stderr",
     "output_type": "stream",
     "text": [
      "/home/ubuntu/miniconda3/envs/rebel/lib/python3.10/site-packages/tqdm/auto.py:21: TqdmWarning: IProgress not found. Please update jupyter and ipywidgets. See https://ipywidgets.readthedocs.io/en/stable/user_install.html\n",
      "  from .autonotebook import tqdm as notebook_tqdm\n"
     ]
    }
   ],
   "source": [
    "from hydra import compose, initialize\n",
    "import pytorch_lightning as pl\n",
    "from pl_data_modules import BasePLDataModule\n",
    "from pl_modules import BasePLModule\n",
    "from transformers import AutoConfig, AutoModelForSeq2SeqLM, AutoTokenizer\n",
    "from pytorch_lightning.core.saving import _load_from_checkpoint\n",
    "from typing import cast\n",
    "import torch\n",
    "from pytorch_lightning.utilities.migration.utils import _pl_migrate_checkpoint\n",
    "from pathlib import Path\n",
    "from pytorch_lightning.core.saving import _load_state\n",
    "\n",
    "checkpoint_path = \"/home/ubuntu/rebel/outputs/2024-08-21/17-25-14/experiments/default_name/last.ckpt\"\n",
    "seed = 42\n",
    "config_name = 'google/mt5-base'\n",
    "tokenizer_name = 'google/mt5-base'"
   ]
  },
  {
   "cell_type": "code",
   "execution_count": 3,
   "id": "045e2492-632e-4b00-84bf-26402a6e342a",
   "metadata": {
    "scrolled": true
   },
   "outputs": [
    {
     "name": "stderr",
     "output_type": "stream",
     "text": [
      "/tmp/ipykernel_695455/1858989061.py:1: UserWarning: \n",
      "The version_base parameter is not specified.\n",
      "Please specify a compatability version level, or None.\n",
      "Will assume defaults for version 1.1\n",
      "  initialize(config_path=\"./conf\")\n"
     ]
    }
   ],
   "source": [
    "initialize(config_path=\"./conf\")\n",
    "conf = compose(config_name=\"root\", overrides=[f\"checkpoint_path={checkpoint_path}\", \"do_predict=True\", \"do_eval=True\"])"
   ]
  },
  {
   "cell_type": "code",
   "execution_count": 4,
   "id": "dc857e0e-5f56-41be-892d-fe74a574a740",
   "metadata": {},
   "outputs": [
    {
     "name": "stderr",
     "output_type": "stream",
     "text": [
      "Seed set to 42\n",
      "/home/ubuntu/miniconda3/envs/rebel/lib/python3.10/site-packages/transformers/tokenization_utils_base.py:1601: FutureWarning: `clean_up_tokenization_spaces` was not set. It will be set to `True` by default. This behavior will be depracted in transformers v4.45, and will be then set to `False` by default. For more details check this issue: https://github.com/huggingface/transformers/issues/31884\n",
      "  warnings.warn(\n",
      "/home/ubuntu/miniconda3/envs/rebel/lib/python3.10/site-packages/transformers/convert_slow_tokenizer.py:551: UserWarning: The sentencepiece tokenizer that you are converting to a fast tokenizer uses the byte fallback option which is not implemented in the fast tokenizers. In practice this means that the fast version of the tokenizer can produce unknown tokens whereas the sentencepiece version would have converted these unknown tokens into a sequence of byte tokens matching the original piece of text.\n",
      "  warnings.warn(\n"
     ]
    },
    {
     "data": {
      "text/plain": [
       "Embedding(250103, 768)"
      ]
     },
     "execution_count": 4,
     "metadata": {},
     "output_type": "execute_result"
    }
   ],
   "source": [
    "pl.seed_everything(conf.seed)\n",
    "\n",
    "config = AutoConfig.from_pretrained(\n",
    "    conf.config_name if conf.config_name else conf.model_name_or_path,\n",
    "    decoder_start_token_id = 0,\n",
    "    early_stopping = False,\n",
    "    no_repeat_ngram_size = 0,\n",
    ")\n",
    "\n",
    "special_tokens = [\n",
    "    \"<triplet>\",\n",
    "    \"<obj>\",\n",
    "    \"<subj>\",\n",
    "]\n",
    "    \n",
    "tokenizer_kwargs = {\n",
    "    \"use_fast\": True,  # Always use fast tokenizer for better compatibility\n",
    "    \"additional_special_tokens\": special_tokens, \n",
    "    \"legacy\": False,  # For mt5\n",
    "}\n",
    "\n",
    "tokenizer = AutoTokenizer.from_pretrained(\n",
    "    conf.tokenizer_name if conf.tokenizer_name else conf.model_name_or_path,\n",
    "    **tokenizer_kwargs\n",
    ")\n",
    "\n",
    "model = AutoModelForSeq2SeqLM.from_pretrained(\n",
    "    conf.model_name_or_path,\n",
    "    config=config,\n",
    ")\n",
    "# if not conf.finetune:\n",
    "model.resize_token_embeddings(len(tokenizer))"
   ]
  },
  {
   "cell_type": "code",
   "execution_count": 5,
   "id": "a34064f2-52dc-4afd-8c67-893d5c42e7b9",
   "metadata": {},
   "outputs": [],
   "source": [
    "# data module declaration\n",
    "pl_data_module = BasePLDataModule(conf, tokenizer, model)\n",
    "\n",
    "# main module declaration\n",
    "pl_module = BasePLModule(conf, config, tokenizer, model)\n",
    "device = torch.device(\"cuda:0\")"
   ]
  },
  {
   "cell_type": "code",
   "execution_count": 6,
   "id": "fc34c914-7a4c-4985-80fb-f3fd79a294e7",
   "metadata": {
    "scrolled": true
   },
   "outputs": [
    {
     "name": "stderr",
     "output_type": "stream",
     "text": [
      "/tmp/ipykernel_695455/549381607.py:1: FutureWarning: You are using `torch.load` with `weights_only=False` (the current default value), which uses the default pickle module implicitly. It is possible to construct malicious pickle data which will execute arbitrary code during unpickling (See https://github.com/pytorch/pytorch/blob/main/SECURITY.md#untrusted-models for more details). In a future release, the default value for `weights_only` will be flipped to `True`. This limits the functions that could be executed during unpickling. Arbitrary objects will no longer be allowed to be loaded via this mode unless they are explicitly allowlisted by the user via `torch.serialization.add_safe_globals`. We recommend you start setting `weights_only=True` for any use case where you don't have full control of the loaded file. Please open an issue on GitHub for any issues related to this experimental feature.\n",
      "  checkpoint = torch.load(\n"
     ]
    }
   ],
   "source": [
    "checkpoint = torch.load(\n",
    "    conf.checkpoint_path,\n",
    "    map_location=torch.device('cuda'),\n",
    ")\n",
    "checkpoint = _pl_migrate_checkpoint(\n",
    "    checkpoint, checkpoint_path=(conf.checkpoint_path if isinstance(conf.checkpoint_path, (str, Path)) else None)\n",
    ")\n",
    "pl_module = _load_state(BasePLModule, checkpoint, config=config, tokenizer=tokenizer, model=model)\n",
    "state_dict = checkpoint[\"state_dict\"]\n",
    "pl_module = cast(BasePLModule, pl_module.to(device))"
   ]
  },
  {
   "cell_type": "code",
   "execution_count": 7,
   "id": "65e04ea3-8719-432a-8571-a05db2edc8f1",
   "metadata": {},
   "outputs": [
    {
     "name": "stderr",
     "output_type": "stream",
     "text": [
      "GPU available: True (cuda), used: True\n",
      "TPU available: False, using: 0 TPU cores\n",
      "HPU available: False, using: 0 HPUs\n",
      "/home/ubuntu/miniconda3/envs/rebel/lib/python3.10/site-packages/pytorch_lightning/trainer/connectors/logger_connector/logger_connector.py:75: Starting from v1.9.0, `tensorboardX` has been removed as a dependency of the `pytorch_lightning` package, due to potential conflicts with other packages in the ML ecosystem. For this reason, `logger=True` will use `CSVLogger` as the default logger, unless the `tensorboard` or `tensorboardX` packages are found. Please `pip install lightning[extra]` or one of them to enable TensorBoard support by default\n",
      "Map:   0%|                                                                           | 0/517701 [00:00<?, ? examples/s]/home/ubuntu/miniconda3/envs/rebel/lib/python3.10/site-packages/transformers/tokenization_utils_base.py:4126: UserWarning: `as_target_tokenizer` is deprecated and will be removed in v5 of Transformers. You can tokenize your labels by using the argument `text_target` of the regular `__call__` method (either in the same call as your input texts if you use the same keyword arguments, or in a separate call.\n",
      "  warnings.warn(\n",
      "Map: 100%|████████████████████████████████████████████████████████████| 517701/517701 [01:06<00:00, 7829.46 examples/s]\n",
      "Map: 100%|██████████████████████████████████████████████████████████████| 28505/28505 [00:03<00:00, 7505.99 examples/s]\n",
      "Map: 100%|██████████████████████████████████████████████████████████████| 28689/28689 [00:03<00:00, 7966.01 examples/s]\n"
     ]
    }
   ],
   "source": [
    "# pl_module.hparams.predict_with_generate = True\n",
    "pl_module.hparams.test_file = pl_data_module.conf.test_file\n",
    "# trainer\n",
    "trainer = pl.Trainer(\n",
    "        num_nodes=conf.gpus,\n",
    ")\n",
    "# Manually run prep methods on DataModule\n",
    "pl_data_module.prepare_data()\n",
    "pl_data_module.setup('test')\n"
   ]
  },
  {
   "cell_type": "code",
   "execution_count": 8,
   "id": "6f9e4269-8852-4576-b62d-87117ed2c99d",
   "metadata": {},
   "outputs": [
    {
     "name": "stderr",
     "output_type": "stream",
     "text": [
      "You are using a CUDA device ('NVIDIA GeForce RTX 3090') that has Tensor Cores. To properly utilize them, you should set `torch.set_float32_matmul_precision('medium' | 'high')` which will trade-off precision for performance. For more details, read https://pytorch.org/docs/stable/generated/torch.set_float32_matmul_precision.html#torch.set_float32_matmul_precision\n",
      "LOCAL_RANK: 0 - CUDA_VISIBLE_DEVICES: [0]\n",
      "huggingface/tokenizers: The current process just got forked, after parallelism has already been used. Disabling parallelism to avoid deadlocks...\n",
      "To disable this warning, you can either:\n",
      "\t- Avoid using `tokenizers` before the fork if possible\n",
      "\t- Explicitly set the environment variable TOKENIZERS_PARALLELISM=(true | false)\n",
      "huggingface/tokenizers: The current process just got forked, after parallelism has already been used. Disabling parallelism to avoid deadlocks...\n",
      "To disable this warning, you can either:\n",
      "\t- Avoid using `tokenizers` before the fork if possible\n",
      "\t- Explicitly set the environment variable TOKENIZERS_PARALLELISM=(true | false)\n",
      "huggingface/tokenizers: The current process just got forked, after parallelism has already been used. Disabling parallelism to avoid deadlocks...\n",
      "To disable this warning, you can either:\n",
      "\t- Avoid using `tokenizers` before the fork if possible\n",
      "\t- Explicitly set the environment variable TOKENIZERS_PARALLELISM=(true | false)\n",
      "huggingface/tokenizers: The current process just got forked, after parallelism has already been used. Disabling parallelism to avoid deadlocks...\n",
      "To disable this warning, you can either:\n",
      "\t- Avoid using `tokenizers` before the fork if possible\n",
      "\t- Explicitly set the environment variable TOKENIZERS_PARALLELISM=(true | false)\n"
     ]
    },
    {
     "name": "stdout",
     "output_type": "stream",
     "text": [
      "Testing DataLoader 0: 100%|██████████████████████████████████████████████████████████| 598/598 [51:42<00:00,  0.19it/s]RE Evaluation in *** BOUNDARIES *** mode\n",
      "processed 28689 sentences with 77784 relations; found: 85728 relations; correct: 30054.\n",
      "\tALL\t TP: 30054;\tFP: 55344;\tFN: 47300\n",
      "\t\t(m avg): precision: 35.19;\trecall: 38.85;\tf1: 36.93 (micro)\n",
      "\t\t(M avg): precision: 9.63;\trecall: 6.93;\tf1: 7.36 (Macro)\n",
      "\n",
      "\trelation: \tTP: 0;\tFP: 0;\tFN: 0;\tprecision: 0.00;\trecall: 0.00;\tf1: 0.00;\t0\n",
      "\tکشور: \tTP: 11682;\tFP: 10091;\tFN: 9008;\tprecision: 53.65;\trecall: 56.46;\tf1: 55.02;\t21773\n",
      "\tموقعیت در تقسیمات کشوری: \tTP: 5105;\tFP: 6305;\tFN: 6006;\tprecision: 44.74;\trecall: 45.95;\tf1: 45.34;\t11410\n",
      "\tعضو تیم ورزشی: \tTP: 1;\tFP: 239;\tFN: 148;\tprecision: 0.42;\trecall: 0.67;\tf1: 0.51;\t240\n",
      "\tزیربخش: \tTP: 7262;\tFP: 1489;\tFN: 1277;\tprecision: 82.98;\trecall: 85.05;\tf1: 84.00;\t8751\n",
      "\tتبعۀ: \tTP: 139;\tFP: 8056;\tFN: 1520;\tprecision: 1.70;\trecall: 8.38;\tf1: 2.82;\t8195\n",
      "\tپیشه: \tTP: 55;\tFP: 6747;\tFN: 5843;\tprecision: 0.81;\trecall: 0.93;\tf1: 0.87;\t6802\n",
      "\tرابطۀ دیپلماتیک: \tTP: 601;\tFP: 1731;\tFN: 1317;\tprecision: 25.77;\trecall: 31.33;\tf1: 28.28;\t2332\n",
      "\tنمونهای از: \tTP: 187;\tFP: 3152;\tFN: 2826;\tprecision: 5.60;\trecall: 6.21;\tf1: 5.89;\t3339\n",
      "\tزبان رسمی: \tTP: 2091;\tFP: 194;\tFN: 202;\tprecision: 91.51;\trecall: 91.19;\tf1: 91.35;\t2285\n",
      "\tزیرردۀ: \tTP: 206;\tFP: 1219;\tFN: 856;\tprecision: 14.46;\trecall: 19.40;\tf1: 16.57;\t1425\n",
      "\tهممرز با: \tTP: 82;\tFP: 497;\tFN: 873;\tprecision: 14.16;\trecall: 8.59;\tf1: 10.69;\t579\n",
      "\tنوع اثر باستانی: \tTP: 3;\tFP: 889;\tFN: 180;\tprecision: 0.34;\trecall: 1.64;\tf1: 0.56;\t892\n",
      "\tبا هنرمندی: \tTP: 4;\tFP: 160;\tFN: 80;\tprecision: 2.44;\trecall: 4.76;\tf1: 3.23;\t164\n",
      "\tطبقه آرایهشناختی: \tTP: 740;\tFP: 960;\tFN: 796;\tprecision: 43.53;\trecall: 48.18;\tf1: 45.74;\t1700\n",
      "\tورزش: \tTP: 11;\tFP: 1509;\tFN: 1535;\tprecision: 0.72;\trecall: 0.71;\tf1: 0.72;\t1520\n",
      "\tزادروز: \tTP: 34;\tFP: 1469;\tFN: 1268;\tprecision: 2.26;\trecall: 2.61;\tf1: 2.42;\t1503\n",
      "\tجزئی از: \tTP: 99;\tFP: 521;\tFN: 755;\tprecision: 15.97;\trecall: 11.59;\tf1: 13.43;\t620\n",
      "\tدربرگیرنده: \tTP: 82;\tFP: 284;\tFN: 767;\tprecision: 22.40;\trecall: 9.66;\tf1: 13.50;\t366\n",
      "\tزادگاه: \tTP: 10;\tFP: 644;\tFN: 431;\tprecision: 1.53;\trecall: 2.27;\tf1: 1.83;\t654\n",
      "\tمتفاوت است با: \tTP: 17;\tFP: 172;\tFN: 351;\tprecision: 8.99;\trecall: 4.62;\tf1: 6.10;\t189\n",
      "\tزمان مرگ: \tTP: 13;\tFP: 717;\tFN: 537;\tprecision: 1.78;\trecall: 2.36;\tf1: 2.03;\t730\n",
      "\tپایتخت: \tTP: 132;\tFP: 186;\tFN: 598;\tprecision: 41.51;\trecall: 18.08;\tf1: 25.19;\t318\n",
      "\tتاریخ کشف: \tTP: 0;\tFP: 741;\tFN: 6;\tprecision: 0.00;\trecall: 0.00;\tf1: 0.00;\t741\n",
      "\tآرایهٔ والد: \tTP: 26;\tFP: 505;\tFN: 521;\tprecision: 4.90;\trecall: 4.75;\tf1: 4.82;\t531\n",
      "\tجوایز: \tTP: 3;\tFP: 38;\tFN: 47;\tprecision: 7.32;\trecall: 6.00;\tf1: 6.59;\t41\n",
      "\tهمنیا: \tTP: 15;\tFP: 187;\tFN: 160;\tprecision: 7.43;\trecall: 8.57;\tf1: 7.96;\t202\n",
      "\tسبک: \tTP: 13;\tFP: 383;\tFN: 371;\tprecision: 3.28;\trecall: 3.39;\tf1: 3.33;\t396\n",
      "\tکارگردان: \tTP: 10;\tFP: 426;\tFN: 192;\tprecision: 2.29;\trecall: 4.95;\tf1: 3.13;\t436\n",
      "\tشهرهای خواهرخوانده: \tTP: 3;\tFP: 67;\tFN: 105;\tprecision: 4.29;\trecall: 2.78;\tf1: 3.37;\t70\n",
      "\tفرزند: \tTP: 39;\tFP: 171;\tFN: 220;\tprecision: 18.57;\trecall: 15.06;\tf1: 16.63;\t210\n",
      "\tمکان کنونی: \tTP: 0;\tFP: 156;\tFN: 287;\tprecision: 0.00;\trecall: 0.00;\tf1: 0.00;\t156\n",
      "\tپدرش: \tTP: 17;\tFP: 165;\tFN: 197;\tprecision: 9.34;\trecall: 7.94;\tf1: 8.59;\t182\n",
      "\tپیش از: \tTP: 31;\tFP: 118;\tFN: 288;\tprecision: 20.81;\trecall: 9.72;\tf1: 13.25;\t149\n",
      "\tدرجه بالاتر: \tTP: 360;\tFP: 30;\tFN: 44;\tprecision: 92.31;\trecall: 89.11;\tf1: 90.68;\t390\n",
      "\tاثر (ها): \tTP: 11;\tFP: 82;\tFN: 225;\tprecision: 11.83;\trecall: 4.66;\tf1: 6.69;\t93\n",
      "\tدانشآموختهٔ: \tTP: 0;\tFP: 4;\tFN: 15;\tprecision: 0.00;\trecall: 0.00;\tf1: 0.00;\t4\n",
      "\tدرجه پایینتر: \tTP: 138;\tFP: 240;\tFN: 260;\tprecision: 36.51;\trecall: 34.67;\tf1: 35.57;\t378\n",
      "\tزادگاه فرهنگی: \tTP: 100;\tFP: 117;\tFN: 186;\tprecision: 46.08;\trecall: 34.97;\tf1: 39.76;\t217\n",
      "\tپس از: \tTP: 32;\tFP: 91;\tFN: 222;\tprecision: 26.02;\trecall: 12.60;\tf1: 16.98;\t123\n",
      "\tهمسر: \tTP: 21;\tFP: 151;\tFN: 184;\tprecision: 12.21;\trecall: 10.24;\tf1: 11.14;\t172\n",
      "\tمحل مرگ: \tTP: 5;\tFP: 97;\tFN: 100;\tprecision: 4.90;\trecall: 4.76;\tf1: 4.83;\t102\n",
      "\tمحل ستاد: \tTP: 8;\tFP: 157;\tFN: 157;\tprecision: 4.85;\trecall: 4.85;\tf1: 4.85;\t165\n",
      "\tشرکت داشته است در: \tTP: 3;\tFP: 61;\tFN: 102;\tprecision: 4.69;\trecall: 2.86;\tf1: 3.55;\t64\n",
      "\tکار میکند/میکرد در: \tTP: 1;\tFP: 80;\tFN: 75;\tprecision: 1.23;\trecall: 1.32;\tf1: 1.27;\t81\n",
      "\tمتضادِ: \tTP: 28;\tFP: 154;\tFN: 235;\tprecision: 15.38;\trecall: 10.65;\tf1: 12.58;\t182\n",
      "\tاجرا کننده: \tTP: 23;\tFP: 274;\tFN: 163;\tprecision: 7.74;\trecall: 12.37;\tf1: 9.52;\t297\n",
      "\tزبان مورد استفاده: \tTP: 181;\tFP: 15;\tFN: 111;\tprecision: 92.35;\trecall: 61.99;\tf1: 74.18;\t196\n",
      "\tپایتخت است برای: \tTP: 40;\tFP: 85;\tFN: 240;\tprecision: 32.00;\trecall: 14.29;\tf1: 19.75;\t125\n",
      "\tنامیده به نامِ: \tTP: 0;\tFP: 15;\tFN: 92;\tprecision: 0.00;\trecall: 0.00;\tf1: 0.00;\t15\n",
      "\tزمینه کاری: \tTP: 0;\tFP: 140;\tFN: 165;\tprecision: 0.00;\trecall: 0.00;\tf1: 0.00;\t140\n",
      "\tنویسنده: \tTP: 22;\tFP: 261;\tFN: 158;\tprecision: 7.77;\trecall: 12.22;\tf1: 9.50;\t283\n",
      "\tاز اعضای: \tTP: 2;\tFP: 54;\tFN: 69;\tprecision: 3.57;\trecall: 2.82;\tf1: 3.15;\t56\n",
      "\tعضو حزب: \tTP: 6;\tFP: 159;\tFN: 59;\tprecision: 3.64;\trecall: 9.23;\tf1: 5.22;\t165\n",
      "\tجنگها: \tTP: 10;\tFP: 108;\tFN: 96;\tprecision: 8.47;\trecall: 9.43;\tf1: 8.93;\t118\n",
      "\tبا حضورِ: \tTP: 5;\tFP: 150;\tFN: 135;\tprecision: 3.23;\trecall: 3.57;\tf1: 3.39;\t155\n",
      "\tکشور (ورزشکار): \tTP: 58;\tFP: 102;\tFN: 44;\tprecision: 36.25;\trecall: 56.86;\tf1: 44.27;\t160\n",
      "\tبنیانگذار: \tTP: 7;\tFP: 90;\tFN: 118;\tprecision: 7.22;\trecall: 5.60;\tf1: 6.31;\t97\n",
      "\tپست (درون تیم): \tTP: 2;\tFP: 246;\tFN: 162;\tprecision: 0.81;\trecall: 1.22;\tf1: 0.97;\t248\n",
      "\tمتأثر از: \tTP: 0;\tFP: 37;\tFN: 75;\tprecision: 0.00;\trecall: 0.00;\tf1: 0.00;\t37\n",
      "\tمنصب: \tTP: 7;\tFP: 105;\tFN: 85;\tprecision: 6.25;\trecall: 7.61;\tf1: 6.86;\t112\n",
      "\tسازنده: \tTP: 6;\tFP: 195;\tFN: 127;\tprecision: 2.99;\trecall: 4.51;\tf1: 3.59;\t201\n",
      "\tزبانهای شخص: \tTP: 2;\tFP: 20;\tFN: 71;\tprecision: 9.09;\trecall: 2.74;\tf1: 4.21;\t22\n",
      "\tپیرامون: \tTP: 0;\tFP: 11;\tFN: 81;\tprecision: 0.00;\trecall: 0.00;\tf1: 0.00;\t11\n",
      "\tلیگ: \tTP: 15;\tFP: 53;\tFN: 60;\tprecision: 22.06;\trecall: 20.00;\tf1: 20.98;\t68\n",
      "\tزمان رویداد: \tTP: 2;\tFP: 108;\tFN: 82;\tprecision: 1.82;\trecall: 2.38;\tf1: 2.06;\t110\n",
      "\tبرنده: \tTP: 1;\tFP: 22;\tFN: 39;\tprecision: 4.35;\trecall: 2.50;\tf1: 3.17;\t23\n",
      "\tآب سطحی پیرامون: \tTP: 12;\tFP: 125;\tFN: 101;\tprecision: 8.76;\trecall: 10.62;\tf1: 9.60;\t137\n",
      "\tبه جای: \tTP: 26;\tFP: 2;\tFN: 78;\tprecision: 92.86;\trecall: 25.00;\tf1: 39.39;\t28\n",
      "\tدارنده: \tTP: 4;\tFP: 75;\tFN: 78;\tprecision: 5.06;\trecall: 4.88;\tf1: 4.97;\t79\n",
      "\tاشاره شده در کتابِ: \tTP: 1;\tFP: 20;\tFN: 60;\tprecision: 4.76;\trecall: 1.64;\tf1: 2.44;\t21\n",
      "\tفصل ورزشی: \tTP: 2;\tFP: 85;\tFN: 65;\tprecision: 2.30;\trecall: 2.99;\tf1: 2.60;\t87\n",
      "\tدین: \tTP: 0;\tFP: 75;\tFN: 68;\tprecision: 0.00;\trecall: 0.00;\tf1: 0.00;\t75\n",
      "\tنهاد ارشد: \tTP: 0;\tFP: 36;\tFN: 89;\tprecision: 0.00;\trecall: 0.00;\tf1: 0.00;\t36\n",
      "\tتیمهای شرکتکننده: \tTP: 16;\tFP: 14;\tFN: 30;\tprecision: 53.33;\trecall: 34.78;\tf1: 42.11;\t30\n",
      "\tکاربری: \tTP: 0;\tFP: 9;\tFN: 67;\tprecision: 0.00;\trecall: 0.00;\tf1: 0.00;\t9\n",
      "\tتولیدکنندهٔ: \tTP: 1;\tFP: 17;\tFN: 79;\tprecision: 5.56;\trecall: 1.25;\tf1: 2.04;\t18\n",
      "\tرخداد مهم: \tTP: 0;\tFP: 13;\tFN: 98;\tprecision: 0.00;\trecall: 0.00;\tf1: 0.00;\t13\n",
      "\tکارفرما: \tTP: 1;\tFP: 10;\tFN: 35;\tprecision: 9.09;\trecall: 2.78;\tf1: 4.26;\t11\n",
      "\tشهرهای تحت پوشش: \tTP: 11;\tFP: 22;\tFN: 19;\tprecision: 33.33;\trecall: 36.67;\tf1: 34.92;\t33\n",
      "\tپدیدآورنده: \tTP: 2;\tFP: 22;\tFN: 55;\tprecision: 8.33;\trecall: 3.51;\tf1: 4.94;\t24\n",
      "\tقاره: \tTP: 0;\tFP: 34;\tFN: 44;\tprecision: 0.00;\trecall: 0.00;\tf1: 0.00;\t34\n",
      "\tموقعیت: \tTP: 25;\tFP: 7;\tFN: 58;\tprecision: 78.12;\trecall: 30.12;\tf1: 43.48;\t32\n",
      "\tبومی برای: \tTP: 22;\tFP: 11;\tFN: 70;\tprecision: 66.67;\trecall: 23.91;\tf1: 35.20;\t33\n",
      "\tمتشکل از عناصر: \tTP: 61;\tFP: 6;\tFN: 29;\tprecision: 91.04;\trecall: 67.78;\tf1: 77.71;\t67\n",
      "\tمادرش: \tTP: 0;\tFP: 1;\tFN: 41;\tprecision: 0.00;\trecall: 0.00;\tf1: 0.00;\t1\n",
      "\tشرکتهای زیرمجموعه: \tTP: 4;\tFP: 9;\tFN: 87;\tprecision: 30.77;\trecall: 4.40;\tf1: 7.69;\t13\n",
      "\tنامزد جایزۀ: \tTP: 0;\tFP: 5;\tFN: 3;\tprecision: 0.00;\trecall: 0.00;\tf1: 0.00;\t5\n",
      "\tجایگزینشده توسط: \tTP: 0;\tFP: 0;\tFN: 57;\tprecision: 0.00;\trecall: 0.00;\tf1: 0.00;\t0\n",
      "\tخاندان: \tTP: 6;\tFP: 51;\tFN: 46;\tprecision: 10.53;\trecall: 11.54;\tf1: 11.01;\t57\n",
      "\tسکو: \tTP: 3;\tFP: 87;\tFN: 43;\tprecision: 3.33;\trecall: 6.52;\tf1: 4.41;\t90\n",
      "\tساز: \tTP: 0;\tFP: 21;\tFN: 36;\tprecision: 0.00;\trecall: 0.00;\tf1: 0.00;\t21\n",
      "\tبر پایه: \tTP: 0;\tFP: 1;\tFN: 42;\tprecision: 0.00;\trecall: 0.00;\tf1: 0.00;\t1\n",
      "\tمتصل به: \tTP: 0;\tFP: 6;\tFN: 34;\tprecision: 0.00;\trecall: 0.00;\tf1: 0.00;\t6\n",
      "\tدارای خصوصیت: \tTP: 0;\tFP: 0;\tFN: 17;\tprecision: 0.00;\trecall: 0.00;\tf1: 0.00;\t0\n",
      "\tموضوع مطالعهشده در: \tTP: 0;\tFP: 53;\tFN: 48;\tprecision: 0.00;\trecall: 0.00;\tf1: 0.00;\t53\n",
      "\tپیامدها: \tTP: 0;\tFP: 7;\tFN: 53;\tprecision: 0.00;\trecall: 0.00;\tf1: 0.00;\t7\n",
      "\tمتعلق به حوزهٔ قضایی: \tTP: 0;\tFP: 0;\tFN: 51;\tprecision: 0.00;\trecall: 0.00;\tf1: 0.00;\t0\n",
      "\tمحل انجام کار: \tTP: 0;\tFP: 0;\tFN: 17;\tprecision: 0.00;\trecall: 0.00;\tf1: 0.00;\t0\n",
      "\tشخصیتها: \tTP: 5;\tFP: 4;\tFN: 36;\tprecision: 55.56;\trecall: 12.20;\tf1: 20.00;\t9\n",
      "\tدنباله: \tTP: 1;\tFP: 19;\tFN: 39;\tprecision: 5.00;\trecall: 2.50;\tf1: 3.33;\t20\n",
      "\tگفته میشود یکی است با: \tTP: 0;\tFP: 0;\tFN: 64;\tprecision: 0.00;\trecall: 0.00;\tf1: 0.00;\t0\n",
      "\tتوسعهدهنده: \tTP: 2;\tFP: 53;\tFN: 47;\tprecision: 3.64;\trecall: 4.08;\tf1: 3.85;\t55\n",
      "\tمسئول سازماندهی: \tTP: 3;\tFP: 42;\tFN: 49;\tprecision: 6.67;\trecall: 5.77;\tf1: 6.19;\t45\n",
      "\tتاریخ انتشار: \tTP: 0;\tFP: 19;\tFN: 19;\tprecision: 0.00;\trecall: 0.00;\tf1: 0.00;\t19\n",
      "\tدارایی: \tTP: 2;\tFP: 13;\tFN: 57;\tprecision: 13.33;\trecall: 3.39;\tf1: 5.41;\t15\n",
      "\tتاریخ ساخت / تأسیس: \tTP: 0;\tFP: 0;\tFN: 0;\tprecision: 0.00;\trecall: 0.00;\tf1: 0.00;\t0\n",
      "\tصنعت: \tTP: 1;\tFP: 34;\tFN: 74;\tprecision: 2.86;\trecall: 1.33;\tf1: 1.82;\t35\n",
      "\tموضوع اصلی: \tTP: 0;\tFP: 17;\tFN: 10;\tprecision: 0.00;\trecall: 0.00;\tf1: 0.00;\t17\n",
      "\tاز دانشجویانِ: \tTP: 0;\tFP: 0;\tFN: 25;\tprecision: 0.00;\trecall: 0.00;\tf1: 0.00;\t0\n",
      "\tمربی تیم(های) ورزشیِ: \tTP: 0;\tFP: 0;\tFN: 1;\tprecision: 0.00;\trecall: 0.00;\tf1: 0.00;\t0\n",
      "\tجای زندگی: \tTP: 0;\tFP: 0;\tFN: 8;\tprecision: 0.00;\trecall: 0.00;\tf1: 0.00;\t0\n",
      "\tپخش شده از شبکه یا کانالِ: \tTP: 2;\tFP: 47;\tFN: 19;\tprecision: 4.08;\trecall: 9.52;\tf1: 5.71;\t49\n",
      "\tخویشاوند: \tTP: 0;\tFP: 0;\tFN: 37;\tprecision: 0.00;\trecall: 0.00;\tf1: 0.00;\t0\n",
      "\tزبان اثر یا نام: \tTP: 0;\tFP: 34;\tFN: 32;\tprecision: 0.00;\trecall: 0.00;\tf1: 0.00;\t34\n",
      "\tبرچسب ضبط: \tTP: 2;\tFP: 2;\tFN: 44;\tprecision: 50.00;\trecall: 4.35;\tf1: 8.00;\t4\n",
      "\tبه کار میبرد: \tTP: 0;\tFP: 2;\tFN: 28;\tprecision: 0.00;\trecall: 0.00;\tf1: 0.00;\t2\n",
      "\tزمان پایان: \tTP: 0;\tFP: 14;\tFN: 28;\tprecision: 0.00;\trecall: 0.00;\tf1: 0.00;\t14\n",
      "\tسامانه بزرگراهی: \tTP: 19;\tFP: 51;\tFN: 39;\tprecision: 27.14;\trecall: 32.76;\tf1: 29.69;\t70\n",
      "\tجنبش ادبی: \tTP: 0;\tFP: 2;\tFN: 26;\tprecision: 0.00;\trecall: 0.00;\tf1: 0.00;\t2\n",
      "\tشاخهٔ نظامی: \tTP: 0;\tFP: 71;\tFN: 21;\tprecision: 0.00;\trecall: 0.00;\tf1: 0.00;\t71\n",
      "\tنقش موضوع موردنظر در این رویداد: \tTP: 0;\tFP: 32;\tFN: 15;\tprecision: 0.00;\trecall: 0.00;\tf1: 0.00;\t32\n",
      "\tمواد سازنده: \tTP: 0;\tFP: 0;\tFN: 24;\tprecision: 0.00;\trecall: 0.00;\tf1: 0.00;\t0\n",
      "\tمکان شکلگیری: \tTP: 0;\tFP: 13;\tFN: 28;\tprecision: 0.00;\trecall: 0.00;\tf1: 0.00;\t13\n",
      "\tتهیهکننده: \tTP: 0;\tFP: 4;\tFN: 7;\tprecision: 0.00;\trecall: 0.00;\tf1: 0.00;\t4\n",
      "\tآهنگساز: \tTP: 0;\tFP: 9;\tFN: 31;\tprecision: 0.00;\trecall: 0.00;\tf1: 0.00;\t9\n",
      "\tزمان آغاز: \tTP: 1;\tFP: 11;\tFN: 13;\tprecision: 8.33;\trecall: 7.14;\tf1: 7.69;\t12\n",
      "\tعلتهای احتمالی: \tTP: 0;\tFP: 3;\tFN: 35;\tprecision: 0.00;\trecall: 0.00;\tf1: 0.00;\t3\n",
      "\tشاگردان: \tTP: 0;\tFP: 3;\tFN: 22;\tprecision: 0.00;\trecall: 0.00;\tf1: 0.00;\t3\n",
      "\tکاشف: \tTP: 0;\tFP: 0;\tFN: 16;\tprecision: 0.00;\trecall: 0.00;\tf1: 0.00;\t0\n",
      "\tیار: \tTP: 0;\tFP: 0;\tFN: 35;\tprecision: 0.00;\trecall: 0.00;\tf1: 0.00;\t0\n",
      "\tفیلمنامهنویس: \tTP: 0;\tFP: 0;\tFN: 16;\tprecision: 0.00;\trecall: 0.00;\tf1: 0.00;\t0\n",
      "\tدرمان کننده بیماری: \tTP: 1;\tFP: 14;\tFN: 29;\tprecision: 6.67;\trecall: 3.33;\tf1: 4.44;\t15\n",
      "\tکشورهای ساحلی دریاچه: \tTP: 1;\tFP: 1;\tFN: 52;\tprecision: 50.00;\trecall: 1.89;\tf1: 3.64;\t2\n",
      "\tدشمنِ: \tTP: 0;\tFP: 0;\tFN: 15;\tprecision: 0.00;\trecall: 0.00;\tf1: 0.00;\t0\n",
      "\tآرامگاه: \tTP: 0;\tFP: 0;\tFN: 5;\tprecision: 0.00;\trecall: 0.00;\tf1: 0.00;\t0\n",
      "\tمیریزد به: \tTP: 0;\tFP: 37;\tFN: 39;\tprecision: 0.00;\trecall: 0.00;\tf1: 0.00;\t37\n",
      "\tداروهای نامناسب برای مصرف همزمان: \tTP: 0;\tFP: 0;\tFN: 17;\tprecision: 0.00;\trecall: 0.00;\tf1: 0.00;\t0\n",
      "\tواقع شده در سرزمین ... امروزی: \tTP: 0;\tFP: 0;\tFN: 0;\tprecision: 0.00;\trecall: 0.00;\tf1: 0.00;\t0\n",
      "\tخطوط ارتباطی: \tTP: 1;\tFP: 39;\tFN: 39;\tprecision: 2.50;\trecall: 2.50;\tf1: 2.50;\t40\n",
      "\tشخص برجسته: \tTP: 0;\tFP: 0;\tFN: 31;\tprecision: 0.00;\trecall: 0.00;\tf1: 0.00;\t0\n",
      "\tقوم: \tTP: 0;\tFP: 4;\tFN: 28;\tprecision: 0.00;\trecall: 0.00;\tf1: 0.00;\t4\n",
      "\tدر رشتۀ ورزشیِ: \tTP: 0;\tFP: 31;\tFN: 43;\tprecision: 0.00;\trecall: 0.00;\tf1: 0.00;\t31\n",
      "\tمأموریتهای فضایی موفق: \tTP: 0;\tFP: 0;\tFN: 0;\tprecision: 0.00;\trecall: 0.00;\tf1: 0.00;\t0\n",
      "\tدارای همپوشانی با: \tTP: 0;\tFP: 0;\tFN: 23;\tprecision: 0.00;\trecall: 0.00;\tf1: 0.00;\t0\n",
      "\tناشر: \tTP: 0;\tFP: 45;\tFN: 13;\tprecision: 0.00;\trecall: 0.00;\tf1: 0.00;\t45\n",
      "\tمرکز خطوط هوایی: \tTP: 0;\tFP: 0;\tFN: 3;\tprecision: 0.00;\trecall: 0.00;\tf1: 0.00;\t0\n",
      "\tدوران: \tTP: 0;\tFP: 10;\tFN: 22;\tprecision: 0.00;\trecall: 0.00;\tf1: 0.00;\t10\n",
      "\tسیستم عامل: \tTP: 2;\tFP: 18;\tFN: 19;\tprecision: 10.00;\trecall: 9.52;\tf1: 9.76;\t20\n",
      "\tمدیر مسئول: \tTP: 0;\tFP: 1;\tFN: 33;\tprecision: 0.00;\trecall: 0.00;\tf1: 0.00;\t1\n",
      "\tموضوع مورد مطالعه: \tTP: 0;\tFP: 0;\tFN: 38;\tprecision: 0.00;\trecall: 0.00;\tf1: 0.00;\t0\n",
      "\tعلت مرگ: \tTP: 0;\tFP: 0;\tFN: 1;\tprecision: 0.00;\trecall: 0.00;\tf1: 0.00;\t0\n",
      "\tدارو و درمان: \tTP: 0;\tFP: 7;\tFN: 26;\tprecision: 0.00;\trecall: 0.00;\tf1: 0.00;\t7\n",
      "\tزبان مادری: \tTP: 0;\tFP: 0;\tFN: 18;\tprecision: 0.00;\trecall: 0.00;\tf1: 0.00;\t0\n",
      "\tبه کار رفته توسط: \tTP: 0;\tFP: 0;\tFN: 22;\tprecision: 0.00;\trecall: 0.00;\tf1: 0.00;\t0\n",
      "\tبهابازار: \tTP: 0;\tFP: 0;\tFN: 1;\tprecision: 0.00;\trecall: 0.00;\tf1: 0.00;\t0\n",
      "\tدر اختیارِ: \tTP: 0;\tFP: 0;\tFN: 20;\tprecision: 0.00;\trecall: 0.00;\tf1: 0.00;\t0\n",
      "\tاعطاشده توسط: \tTP: 1;\tFP: 29;\tFN: 16;\tprecision: 3.33;\trecall: 5.88;\tf1: 4.26;\t30\n",
      "\tسرایندۀ اشعار: \tTP: 0;\tFP: 0;\tFN: 3;\tprecision: 0.00;\trecall: 0.00;\tf1: 0.00;\t0\n",
      "\tصورت فلکی: \tTP: 0;\tFP: 25;\tFN: 17;\tprecision: 0.00;\trecall: 0.00;\tf1: 0.00;\t25\n",
      "\tکننده کار: \tTP: 0;\tFP: 0;\tFN: 22;\tprecision: 0.00;\trecall: 0.00;\tf1: 0.00;\t0\n",
      "\tاثر اشتقاقی: \tTP: 0;\tFP: 1;\tFN: 18;\tprecision: 0.00;\trecall: 0.00;\tf1: 0.00;\t1\n",
      "\tسکونتگاههای در محدوده: \tTP: 1;\tFP: 1;\tFN: 26;\tprecision: 50.00;\trecall: 3.70;\tf1: 6.90;\t2\n",
      "\tاجاره شده از سوی: \tTP: 0;\tFP: 0;\tFN: 16;\tprecision: 0.00;\trecall: 0.00;\tf1: 0.00;\t0\n",
      "\tزمینۀ حرفهای: \tTP: 0;\tFP: 0;\tFN: 21;\tprecision: 0.00;\trecall: 0.00;\tf1: 0.00;\t0\n",
      "\tانشعاب میگیرد از: \tTP: 0;\tFP: 1;\tFN: 34;\tprecision: 0.00;\trecall: 0.00;\tf1: 0.00;\t1\n",
      "\tشاغل مقام: \tTP: 0;\tFP: 2;\tFN: 25;\tprecision: 0.00;\trecall: 0.00;\tf1: 0.00;\t2\n",
      "\tنشانگان: \tTP: 0;\tFP: 7;\tFN: 7;\tprecision: 0.00;\trecall: 0.00;\tf1: 0.00;\t7\n",
      "\tهمتیمی: \tTP: 0;\tFP: 0;\tFN: 19;\tprecision: 0.00;\trecall: 0.00;\tf1: 0.00;\t0\n",
      "\tحاکم: \tTP: 0;\tFP: 3;\tFN: 17;\tprecision: 0.00;\trecall: 0.00;\tf1: 0.00;\t3\n",
      "\tتوصیفها: \tTP: 0;\tFP: 0;\tFN: 7;\tprecision: 0.00;\trecall: 0.00;\tf1: 0.00;\t0\n",
      "\tخدای: \tTP: 2;\tFP: 21;\tFN: 10;\tprecision: 8.70;\trecall: 16.67;\tf1: 11.43;\t23\n",
      "\tایدئولوژی سیاسی: \tTP: 0;\tFP: 0;\tFN: 12;\tprecision: 0.00;\trecall: 0.00;\tf1: 0.00;\t0\n",
      "\tعضو تیمِ: \tTP: 0;\tFP: 0;\tFN: 0;\tprecision: 0.00;\trecall: 0.00;\tf1: 0.00;\t0\n",
      "\tمجلس: \tTP: 1;\tFP: 3;\tFN: 15;\tprecision: 25.00;\trecall: 6.25;\tf1: 10.00;\t4\n",
      "\tکمارتفاعترین نقطه: \tTP: 0;\tFP: 0;\tFN: 17;\tprecision: 0.00;\trecall: 0.00;\tf1: 0.00;\t0\n",
      "\tوضعیت اکسایش: \tTP: 0;\tFP: 0;\tFN: 12;\tprecision: 0.00;\trecall: 0.00;\tf1: 0.00;\t0\n",
      "\tصدا پیشه: \tTP: 0;\tFP: 0;\tFN: 2;\tprecision: 0.00;\trecall: 0.00;\tf1: 0.00;\t0\n",
      "\tتوزیع کننده: \tTP: 0;\tFP: 0;\tFN: 5;\tprecision: 0.00;\trecall: 0.00;\tf1: 0.00;\t0\n",
      "\tشرکتهای رسانه: \tTP: 0;\tFP: 3;\tFN: 10;\tprecision: 0.00;\trecall: 0.00;\tf1: 0.00;\t3\n",
      "\tشکل اثر خلاقانه: \tTP: 0;\tFP: 0;\tFN: 22;\tprecision: 0.00;\trecall: 0.00;\tf1: 0.00;\t0\n",
      "\tوابستگی: \tTP: 0;\tFP: 1;\tFN: 11;\tprecision: 0.00;\trecall: 0.00;\tf1: 0.00;\t1\n",
      "\tاستاد راهنمای تز دکترا: \tTP: 0;\tFP: 0;\tFN: 4;\tprecision: 0.00;\trecall: 0.00;\tf1: 0.00;\t0\n",
      "\tپایانه: \tTP: 0;\tFP: 2;\tFN: 15;\tprecision: 0.00;\trecall: 0.00;\tf1: 0.00;\t2\n",
      "\tدرجۀ نظامی: \tTP: 0;\tFP: 1;\tFN: 15;\tprecision: 0.00;\trecall: 0.00;\tf1: 0.00;\t1\n",
      "\tزبان برنامهنویسی: \tTP: 0;\tFP: 4;\tFN: 12;\tprecision: 0.00;\trecall: 0.00;\tf1: 0.00;\t4\n",
      "\tمعمار: \tTP: 0;\tFP: 0;\tFN: 2;\tprecision: 0.00;\trecall: 0.00;\tf1: 0.00;\t0\n",
      "\tخط: \tTP: 0;\tFP: 0;\tFN: 15;\tprecision: 0.00;\trecall: 0.00;\tf1: 0.00;\t0\n",
      "\tامضاکنندگان: \tTP: 0;\tFP: 1;\tFN: 8;\tprecision: 0.00;\trecall: 0.00;\tf1: 0.00;\t1\n",
      "\tبدنه اصلی: \tTP: 0;\tFP: 0;\tFN: 7;\tprecision: 0.00;\trecall: 0.00;\tf1: 0.00;\t0\n",
      "\tزیرآرایهها: \tTP: 0;\tFP: 0;\tFN: 23;\tprecision: 0.00;\trecall: 0.00;\tf1: 0.00;\t0\n",
      "\tبلندترین نقطه: \tTP: 0;\tFP: 1;\tFN: 15;\tprecision: 0.00;\trecall: 0.00;\tf1: 0.00;\t1\n",
      "\tنامزد انتخاباتی: \tTP: 0;\tFP: 0;\tFN: 0;\tprecision: 0.00;\trecall: 0.00;\tf1: 0.00;\t0\n",
      "\tرشته کوه: \tTP: 0;\tFP: 4;\tFN: 8;\tprecision: 0.00;\trecall: 0.00;\tf1: 0.00;\t4\n",
      "\tمکان وقوع داستان: \tTP: 0;\tFP: 0;\tFN: 3;\tprecision: 0.00;\trecall: 0.00;\tf1: 0.00;\t0\n",
      "\tزبان اصلی: \tTP: 0;\tFP: 2;\tFN: 14;\tprecision: 0.00;\trecall: 0.00;\tf1: 0.00;\t2\n",
      "\tایستگاه های همجوار: \tTP: 0;\tFP: 0;\tFN: 10;\tprecision: 0.00;\trecall: 0.00;\tf1: 0.00;\t0\n",
      "Testing DataLoader 0: 100%|██████████████████████████████████████████████████████████| 598/598 [51:50<00:00,  0.19it/s]\n"
     ]
    },
    {
     "data": {
      "text/html": [
       "<pre style=\"white-space:pre;overflow-x:auto;line-height:normal;font-family:Menlo,'DejaVu Sans Mono',consolas,'Courier New',monospace\">┏━━━━━━━━━━━━━━━━━━━━━━━━━━━┳━━━━━━━━━━━━━━━━━━━━━━━━━━━┓\n",
       "┃<span style=\"font-weight: bold\">        Test metric        </span>┃<span style=\"font-weight: bold\">       DataLoader 0        </span>┃\n",
       "┡━━━━━━━━━━━━━━━━━━━━━━━━━━━╇━━━━━━━━━━━━━━━━━━━━━━━━━━━┩\n",
       "│<span style=\"color: #008080; text-decoration-color: #008080\">       test_F1_micro       </span>│<span style=\"color: #800080; text-decoration-color: #800080\">     36.93226623535156     </span>│\n",
       "│<span style=\"color: #008080; text-decoration-color: #008080\">         test_loss         </span>│<span style=\"color: #800080; text-decoration-color: #800080\">    0.15142188966274261    </span>│\n",
       "│<span style=\"color: #008080; text-decoration-color: #008080\">      test_prec_micro      </span>│<span style=\"color: #800080; text-decoration-color: #800080\">     35.19286346435547     </span>│\n",
       "│<span style=\"color: #008080; text-decoration-color: #008080\">     test_recall_micro     </span>│<span style=\"color: #800080; text-decoration-color: #800080\">     38.85254669189453     </span>│\n",
       "└───────────────────────────┴───────────────────────────┘\n",
       "</pre>\n"
      ],
      "text/plain": [
       "┏━━━━━━━━━━━━━━━━━━━━━━━━━━━┳━━━━━━━━━━━━━━━━━━━━━━━━━━━┓\n",
       "┃\u001b[1m \u001b[0m\u001b[1m       Test metric       \u001b[0m\u001b[1m \u001b[0m┃\u001b[1m \u001b[0m\u001b[1m      DataLoader 0       \u001b[0m\u001b[1m \u001b[0m┃\n",
       "┡━━━━━━━━━━━━━━━━━━━━━━━━━━━╇━━━━━━━━━━━━━━━━━━━━━━━━━━━┩\n",
       "│\u001b[36m \u001b[0m\u001b[36m      test_F1_micro      \u001b[0m\u001b[36m \u001b[0m│\u001b[35m \u001b[0m\u001b[35m    36.93226623535156    \u001b[0m\u001b[35m \u001b[0m│\n",
       "│\u001b[36m \u001b[0m\u001b[36m        test_loss        \u001b[0m\u001b[36m \u001b[0m│\u001b[35m \u001b[0m\u001b[35m   0.15142188966274261   \u001b[0m\u001b[35m \u001b[0m│\n",
       "│\u001b[36m \u001b[0m\u001b[36m     test_prec_micro     \u001b[0m\u001b[36m \u001b[0m│\u001b[35m \u001b[0m\u001b[35m    35.19286346435547    \u001b[0m\u001b[35m \u001b[0m│\n",
       "│\u001b[36m \u001b[0m\u001b[36m    test_recall_micro    \u001b[0m\u001b[36m \u001b[0m│\u001b[35m \u001b[0m\u001b[35m    38.85254669189453    \u001b[0m\u001b[35m \u001b[0m│\n",
       "└───────────────────────────┴───────────────────────────┘\n"
      ]
     },
     "metadata": {},
     "output_type": "display_data"
    }
   ],
   "source": [
    "result = trainer.test(pl_module, dataloaders=pl_data_module.test_dataloader())"
   ]
  },
  {
   "cell_type": "code",
   "execution_count": 9,
   "id": "17b943fb-6dd7-4fff-b0af-1c65571694ad",
   "metadata": {
    "scrolled": true
   },
   "outputs": [
    {
     "data": {
      "text/plain": [
       "[{'test_loss': 0.15142188966274261,\n",
       "  'test_prec_micro': 35.19286346435547,\n",
       "  'test_recall_micro': 38.85254669189453,\n",
       "  'test_F1_micro': 36.93226623535156}]"
      ]
     },
     "execution_count": 9,
     "metadata": {},
     "output_type": "execute_result"
    }
   ],
   "source": [
    "result"
   ]
  }
 ],
 "metadata": {
  "kernelspec": {
   "display_name": "Python 3 (ipykernel)",
   "language": "python",
   "name": "python3"
  },
  "language_info": {
   "codemirror_mode": {
    "name": "ipython",
    "version": 3
   },
   "file_extension": ".py",
   "mimetype": "text/x-python",
   "name": "python",
   "nbconvert_exporter": "python",
   "pygments_lexer": "ipython3",
   "version": "3.10.14"
  }
 },
 "nbformat": 4,
 "nbformat_minor": 5
}
